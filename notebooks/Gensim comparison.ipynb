{
 "cells": [
  {
   "cell_type": "markdown",
   "metadata": {},
   "source": [
    "# Using Gensim with `svd2vec` output\n",
    "\n",
    "[Gensim](https://pypi.org/project/gensim/) is a Python library for topic modelling, document indexing and similarity retrieval with large corpora.\n",
    "\n",
    "Gensim can use `word2vec` to compute similarity (and more!) between words. `svd2vec` can save it's vectors in a `word2vec` format that Gensim can process.\n",
    "\n",
    "In this notebook it is shown how you can use Gensim with vectors learnt from `svd2vec`. We also compare our results with the pure word2vec model. "
   ]
  },
  {
   "cell_type": "markdown",
   "metadata": {},
   "source": [
    "---\n",
    "## I - Preparation"
   ]
  },
  {
   "cell_type": "code",
   "execution_count": 1,
   "metadata": {},
   "outputs": [],
   "source": [
    "from svd2vec import svd2vec, FilesIO\n",
    "from gensim.models import Word2Vec\n",
    "from gensim.models.keyedvectors import Word2VecKeyedVectors"
   ]
  },
  {
   "cell_type": "code",
   "execution_count": 2,
   "metadata": {},
   "outputs": [],
   "source": [
    "# Gensim does not have any implementation of an analogy method, so we add one here (3CosAdd)\n",
    "def analogy_keyed(self, a, b, c, topn=10):\n",
    "    return self.most_similar(positive=[b, c], negative=[a], topn=topn)\n",
    "Word2VecKeyedVectors.analogy = analogy_keyed\n",
    "def analogy_w2v(self, a, b, c, topn=10):\n",
    "    return self.wv.most_similar(positive=[b, c], negative=[a], topn=topn)\n",
    "Word2Vec.analogy = analogy_w2v"
   ]
  },
  {
   "cell_type": "code",
   "execution_count": 3,
   "metadata": {},
   "outputs": [],
   "source": [
    "documents = FilesIO.load_corpus(\"text8\")"
   ]
  },
  {
   "cell_type": "markdown",
   "metadata": {},
   "source": [
    "---\n",
    "## II - Models construction"
   ]
  },
  {
   "cell_type": "markdown",
   "metadata": {},
   "source": [
    "### SVD with svd2vec"
   ]
  },
  {
   "cell_type": "code",
   "execution_count": 4,
   "metadata": {},
   "outputs": [],
   "source": [
    "svd2vec_svd = svd2vec(documents, size=300, window=5, min_count=100, verbose=False)"
   ]
  },
  {
   "cell_type": "markdown",
   "metadata": {},
   "source": [
    "### SVD with Gensim from svd2vec"
   ]
  },
  {
   "cell_type": "code",
   "execution_count": 5,
   "metadata": {},
   "outputs": [],
   "source": [
    "# we first need to export svd2vec_svd to the word2vec format\n",
    "svd2vec_svd.save_word2vec_format(\"svd.word2vec\")\n",
    "\n",
    "# we then load the model using Gensim\n",
    "gensim_svd = Word2VecKeyedVectors.load_word2vec_format(\"svd.word2vec\")"
   ]
  },
  {
   "cell_type": "markdown",
   "metadata": {},
   "source": [
    "### word2vec"
   ]
  },
  {
   "cell_type": "code",
   "execution_count": 6,
   "metadata": {},
   "outputs": [
    {
     "name": "stdout",
     "output_type": "stream",
     "text": [
      "Starting training using file text8\n",
      "Vocab size: 11816\n",
      "Words in train file: 15471434\n",
      "Alpha: 0.000005  Progress: 100.04%  Words/thread/sec: 206.92k  "
     ]
    }
   ],
   "source": [
    "import os\n",
    "if not os.path.isfile(\"w2v.word2vec\") or True:\n",
    "    # we train the model using word2vec (needs to be installed)\n",
    "    !word2vec -min-count 100 -size 300 -window 5 -train text8 -output w2v.word2vec\n",
    "\n",
    "# we load it\n",
    "word2vec_w2v = Word2VecKeyedVectors.load_word2vec_format(\"w2v.word2vec\")"
   ]
  },
  {
   "cell_type": "markdown",
   "metadata": {},
   "source": [
    "### word2vec with Gensim"
   ]
  },
  {
   "cell_type": "code",
   "execution_count": 7,
   "metadata": {},
   "outputs": [],
   "source": [
    "gensim_w2v = Word2Vec(documents, size=300, window=5, min_count=100, workers=16)"
   ]
  },
  {
   "cell_type": "markdown",
   "metadata": {},
   "source": [
    "---\n",
    "## III - Cosine similarity comparison"
   ]
  },
  {
   "cell_type": "code",
   "execution_count": 8,
   "metadata": {},
   "outputs": [],
   "source": [
    "def compare_similarity(w1, w2):\n",
    "    print(\"cosine similarity between\", w1, \"and\", w2, \":\")\n",
    "    print(\"\\tsvd2vec_svd \", svd2vec_svd.similarity(w1, w2))\n",
    "    print(\"\\tgensim_svd  \", gensim_svd.similarity(w1, w2))\n",
    "    print(\"\\tgensim_w2v  \", gensim_w2v.wv.similarity(w1, w2))\n",
    "    print(\"\\tword2vec_w2v\", word2vec_w2v.similarity(w1, w2))\n",
    "\n",
    "def compare_analogy(w1, w2, w3, topn=3):\n",
    "    \n",
    "    def analogy_str(model):\n",
    "        a = model.analogy(w1, w2, w3, topn=topn)\n",
    "        s = \"\\n\\t\\t\".join([\"{: <20}\".format(w) + str(c) for w, c in a])\n",
    "        return \"\\n\\t\\t\" + s\n",
    "    \n",
    "    print(\"analogy similaties :\", w1, \"is to\", w2, \"as\", w3, \"is to?\")\n",
    "    print(\"\\tsvd2vec_svd\", analogy_str(svd2vec_svd))\n",
    "    print(\"\\tgensim_svd\", analogy_str(gensim_svd))\n",
    "    print(\"\\tgensim_w2v\", analogy_str(gensim_w2v))\n",
    "    print(\"\\tword2vec_w2v\", analogy_str(word2vec_w2v))"
   ]
  },
  {
   "cell_type": "code",
   "execution_count": 9,
   "metadata": {},
   "outputs": [
    {
     "name": "stdout",
     "output_type": "stream",
     "text": [
      "cosine similarity between good and bad :\n",
      "\tsvd2vec_svd  0.16960606494176927\n",
      "\tgensim_svd   0.16960636\n",
      "\tgensim_w2v   0.709178\n",
      "\tword2vec_w2v 0.5649511\n"
     ]
    }
   ],
   "source": [
    "compare_similarity(\"good\", \"bad\")"
   ]
  },
  {
   "cell_type": "code",
   "execution_count": 10,
   "metadata": {},
   "outputs": [
    {
     "name": "stdout",
     "output_type": "stream",
     "text": [
      "cosine similarity between truck and car :\n",
      "\tsvd2vec_svd  0.15923853102586527\n",
      "\tgensim_svd   0.15923877\n",
      "\tgensim_w2v   0.6416824\n",
      "\tword2vec_w2v 0.54270566\n"
     ]
    }
   ],
   "source": [
    "compare_similarity(\"truck\", \"car\")"
   ]
  },
  {
   "cell_type": "code",
   "execution_count": 11,
   "metadata": {},
   "outputs": [
    {
     "name": "stdout",
     "output_type": "stream",
     "text": [
      "analogy similaties : january is to month as monday is to?\n",
      "\tsvd2vec_svd \n",
      "\t\tfriday              0.37471685333642046\n",
      "\t\tcalendar            0.3676012349365715\n",
      "\t\tcalendars           0.35337028413753047\n",
      "\tgensim_svd \n",
      "\t\tfriday              0.3747172951698303\n",
      "\t\tcalendar            0.36760085821151733\n",
      "\t\tcalendars           0.3533702492713928\n",
      "\tgensim_w2v \n",
      "\t\tweek                0.6988834142684937\n",
      "\t\tevening             0.595579981803894\n",
      "\t\tweekend             0.5807653665542603\n",
      "\tword2vec_w2v \n",
      "\t\tweek                0.5819252729415894\n",
      "\t\tweekend             0.45014166831970215\n",
      "\t\tmeal                0.44025975465774536\n"
     ]
    }
   ],
   "source": [
    "compare_analogy(\"january\", \"month\", \"monday\")"
   ]
  },
  {
   "cell_type": "code",
   "execution_count": 12,
   "metadata": {},
   "outputs": [
    {
     "name": "stdout",
     "output_type": "stream",
     "text": [
      "analogy similaties : paris is to france as berlin is to?\n",
      "\tsvd2vec_svd \n",
      "\t\tgermany             0.332750582318881\n",
      "\t\treich               0.24643302456973284\n",
      "\t\thimmler             0.24013156257244123\n",
      "\tgensim_svd \n",
      "\t\tgermany             0.33275020122528076\n",
      "\t\treich               0.24643322825431824\n",
      "\t\thimmler             0.24013197422027588\n",
      "\tgensim_w2v \n",
      "\t\tgermany             0.7466158866882324\n",
      "\t\taustria             0.6257748007774353\n",
      "\t\thungary             0.6240533590316772\n",
      "\tword2vec_w2v \n",
      "\t\tgermany             0.5713405609130859\n",
      "\t\taustria             0.4441128671169281\n",
      "\t\tpoland              0.4427028298377991\n"
     ]
    }
   ],
   "source": [
    "compare_analogy(\"paris\", \"france\", \"berlin\")"
   ]
  },
  {
   "cell_type": "code",
   "execution_count": 13,
   "metadata": {},
   "outputs": [
    {
     "name": "stdout",
     "output_type": "stream",
     "text": [
      "analogy similaties : man is to king as woman is to?\n",
      "\tsvd2vec_svd \n",
      "\t\tcomposite           0.22709743018737916\n",
      "\t\truling              0.22502265780447406\n",
      "\t\tmarry               0.21227657323674393\n",
      "\tgensim_svd \n",
      "\t\tcomposite           0.2270975261926651\n",
      "\t\truling              0.2250228077173233\n",
      "\t\tmarry               0.2122761458158493\n",
      "\tgensim_w2v \n",
      "\t\tqueen               0.6124744415283203\n",
      "\t\tthrone              0.5374159812927246\n",
      "\t\tisabella            0.5357133150100708\n",
      "\tword2vec_w2v \n",
      "\t\tqueen               0.4962505102157593\n",
      "\t\tisabella            0.4501015841960907\n",
      "\t\tconsort             0.4426434636116028\n"
     ]
    }
   ],
   "source": [
    "compare_analogy(\"man\", \"king\", \"woman\")"
   ]
  },
  {
   "cell_type": "code",
   "execution_count": 14,
   "metadata": {},
   "outputs": [
    {
     "name": "stdout",
     "output_type": "stream",
     "text": [
      "analogy similaties : road is to cars as rail is to?\n",
      "\tsvd2vec_svd \n",
      "\t\tlocomotives         0.41394615263127865\n",
      "\t\tdiesel              0.3844179279358335\n",
      "\t\tvehicles            0.3656490174820006\n",
      "\tgensim_svd \n",
      "\t\tlocomotives         0.4139465391635895\n",
      "\t\tdiesel              0.3844173550605774\n",
      "\t\tvehicles            0.3656482696533203\n",
      "\tgensim_w2v \n",
      "\t\tlocomotives         0.7243439555168152\n",
      "\t\ttrucks              0.6970822215080261\n",
      "\t\tvehicles            0.6947606801986694\n",
      "\tword2vec_w2v \n",
      "\t\tlocomotives         0.5803698301315308\n",
      "\t\ttrucks              0.5537331104278564\n",
      "\t\tdiesel              0.5369356870651245\n"
     ]
    }
   ],
   "source": [
    "compare_analogy(\"road\", \"cars\", \"rail\")"
   ]
  },
  {
   "cell_type": "markdown",
   "metadata": {},
   "source": [
    "---\n",
    "## IV - Evaluations"
   ]
  },
  {
   "cell_type": "code",
   "execution_count": 15,
   "metadata": {},
   "outputs": [],
   "source": [
    "def compare_similarity(path, d='\\t'):\n",
    "    print(\"pearson correlation of\", os.path.basename(path))\n",
    "    print(\"\\tsvd2vec_svd   \", svd2vec_svd.evaluate_word_pairs(path,   delimiter=d)[0])\n",
    "    print(\"\\tgensim_svd    \", gensim_svd.evaluate_word_pairs(path,    delimiter=d)[0][0])\n",
    "    print(\"\\tgensim_w2v    \", gensim_w2v.wv.evaluate_word_pairs(path, delimiter=d)[0][0])\n",
    "    print(\"\\tword2vec_w2v  \", word2vec_w2v.evaluate_word_pairs(path,  delimiter=d)[0][0])\n",
    "    print(\"\")"
   ]
  },
  {
   "cell_type": "code",
   "execution_count": 16,
   "metadata": {},
   "outputs": [
    {
     "name": "stdout",
     "output_type": "stream",
     "text": [
      "pearson correlation of wordsim353.txt\n",
      "\tsvd2vec_svd    0.5323995150227655\n",
      "\tgensim_svd     0.5515552747176535\n",
      "\tgensim_w2v     0.6464943909892069\n",
      "\tword2vec_w2v   0.670949787953047\n",
      "\n",
      "pearson correlation of men_dataset.txt\n",
      "\tsvd2vec_svd    0.616499909184789\n",
      "\tgensim_svd     0.6164999243162618\n",
      "\tgensim_w2v     0.6185734102715774\n",
      "\tword2vec_w2v   0.6550970460650091\n",
      "\n",
      "pearson correlation of mturk.txt\n",
      "\tsvd2vec_svd    0.5294242885931566\n",
      "\tgensim_svd     0.5294241677182177\n",
      "\tgensim_w2v     0.6538684259695825\n",
      "\tword2vec_w2v   0.6797273248466004\n",
      "\n",
      "pearson correlation of simlex999.txt\n",
      "\tsvd2vec_svd    0.1641437066750331\n",
      "\tgensim_svd     0.16414389519128816\n",
      "\tgensim_w2v     0.2712333067742968\n",
      "\tword2vec_w2v   0.3015538925618266\n",
      "\n",
      "pearson correlation of rarewords.txt\n",
      "\tsvd2vec_svd    0.3206575342617015\n",
      "\tgensim_svd     0.3206569780059028\n",
      "\tgensim_w2v     0.4074306702489544\n",
      "\tword2vec_w2v   0.44227213735273435\n",
      "\n"
     ]
    }
   ],
   "source": [
    "compare_similarity(FilesIO.path('similarities/wordsim353.txt'))\n",
    "compare_similarity(FilesIO.path('similarities/men_dataset.txt'))\n",
    "compare_similarity(FilesIO.path('similarities/mturk.txt'))\n",
    "compare_similarity(FilesIO.path('similarities/simlex999.txt'))\n",
    "compare_similarity(FilesIO.path('similarities/rarewords.txt'))"
   ]
  },
  {
   "cell_type": "code",
   "execution_count": 17,
   "metadata": {},
   "outputs": [],
   "source": [
    "def compare_analogy(path):\n",
    "    print(\"analogies success rate of\", os.path.basename(path))\n",
    "    print(\"\\tsvd2vec_svd   \", svd2vec_svd.evaluate_word_analogies(path))\n",
    "    print(\"\\tgensim_svd    \", gensim_svd.evaluate_word_analogies(path)[0])\n",
    "    print(\"\\tgensim_w2v    \", gensim_w2v.wv.evaluate_word_analogies(path)[0])\n",
    "    print(\"\\tword2vec_w2v  \", word2vec_w2v.evaluate_word_analogies(path)[0])"
   ]
  },
  {
   "cell_type": "code",
   "execution_count": 18,
   "metadata": {},
   "outputs": [
    {
     "name": "stdout",
     "output_type": "stream",
     "text": [
      "analogies success rate of questions-words.txt\n",
      "\tsvd2vec_svd    0.18744727518137339\n",
      "\tgensim_svd     0.18744727518137339\n",
      "\tgensim_w2v     0.5026151510038805\n",
      "\tword2vec_w2v   0.558798717732411\n",
      "analogies success rate of msr.txt\n",
      "\tsvd2vec_svd    0.04246344206974128\n",
      "\tgensim_svd     0.04246344206974128\n",
      "\tgensim_w2v     0.4873453318335208\n",
      "\tword2vec_w2v   0.5444319460067492\n"
     ]
    }
   ],
   "source": [
    "compare_analogy(FilesIO.path('analogies/questions-words.txt'))\n",
    "compare_analogy(FilesIO.path('analogies/msr.txt'))"
   ]
  }
 ],
 "metadata": {
  "kernelspec": {
   "display_name": "Python 3",
   "language": "python",
   "name": "python3"
  },
  "language_info": {
   "codemirror_mode": {
    "name": "ipython",
    "version": 3
   },
   "file_extension": ".py",
   "mimetype": "text/x-python",
   "name": "python",
   "nbconvert_exporter": "python",
   "pygments_lexer": "ipython3",
   "version": "3.5.2"
  }
 },
 "nbformat": 4,
 "nbformat_minor": 2
}
