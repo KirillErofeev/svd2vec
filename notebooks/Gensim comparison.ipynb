{
 "cells": [
  {
   "cell_type": "markdown",
   "metadata": {},
   "source": [
    "# Using Gensim with `svd2vec` output\n",
    "\n",
    "[Gensim](https://pypi.org/project/gensim/) is a Python library for topic modelling, document indexing and similarity retrieval with large corpora.\n",
    "\n",
    "Gensim can use `word2vec` to compute similarity (and more!) between words. `svd2vec` can save it's vectors in a `word2vec` format that Gensim can process.\n",
    "\n",
    "In this notebook it is shown how you can use Gensim with vectors learnt from `svd2vec`. We also compare our results with the pure word2vec model. "
   ]
  },
  {
   "cell_type": "markdown",
   "metadata": {},
   "source": [
    "---\n",
    "## I - Preparation"
   ]
  },
  {
   "cell_type": "code",
   "execution_count": 1,
   "metadata": {},
   "outputs": [],
   "source": [
    "from svd2vec import svd2vec\n",
    "from gensim.models import Word2Vec\n",
    "from gensim.models.keyedvectors import Word2VecKeyedVectors"
   ]
  },
  {
   "cell_type": "code",
   "execution_count": 2,
   "metadata": {},
   "outputs": [],
   "source": [
    "# Gensim does not have any implementation of an analogy method, so we add one here (3CosAdd)\n",
    "def analogy_keyed(self, a, b, c, topn=10):\n",
    "    return self.most_similar(positive=[b, c], negative=[a], topn=topn)\n",
    "Word2VecKeyedVectors.analogy = analogy_keyed\n",
    "def analogy_w2v(self, a, b, c, topn=10):\n",
    "    return self.wv.most_similar(positive=[b, c], negative=[a], topn=topn)\n",
    "Word2Vec.analogy = analogy_w2v"
   ]
  },
  {
   "cell_type": "code",
   "execution_count": 3,
   "metadata": {},
   "outputs": [],
   "source": [
    "# we load our previously made text8 document list\n",
    "documents = [open(\"text8\", \"r\").read().split(\" \")[1:]]"
   ]
  },
  {
   "cell_type": "code",
   "execution_count": 50,
   "metadata": {},
   "outputs": [],
   "source": [
    "from svd2vec import Utils\n",
    "documents = Utils.split(documents[0], 1701)"
   ]
  },
  {
   "cell_type": "markdown",
   "metadata": {},
   "source": [
    "---\n",
    "## II - Models construction"
   ]
  },
  {
   "cell_type": "markdown",
   "metadata": {},
   "source": [
    "### SVD with svd2vec"
   ]
  },
  {
   "cell_type": "code",
   "execution_count": 4,
   "metadata": {},
   "outputs": [],
   "source": [
    "#svd2vec_svd = svd2vec(documents, size=100, window=5, min_count=100, verbose=False)\n",
    "svd2vec_svd = svd2vec.load(\"svd.svd2vec\")"
   ]
  },
  {
   "cell_type": "markdown",
   "metadata": {},
   "source": [
    "### SVD with Gensim from svd2vec"
   ]
  },
  {
   "cell_type": "code",
   "execution_count": 5,
   "metadata": {},
   "outputs": [],
   "source": [
    "# we first need to export svd2vec_svd to the word2vec format\n",
    "svd2vec_svd.save_word2vec_format(\"svd.word2vec\")\n",
    "\n",
    "# we then load the model using Gensim\n",
    "gensim_svd = Word2VecKeyedVectors.load_word2vec_format(\"svd.word2vec\")"
   ]
  },
  {
   "cell_type": "markdown",
   "metadata": {},
   "source": [
    "### word2vec"
   ]
  },
  {
   "cell_type": "code",
   "execution_count": 6,
   "metadata": {},
   "outputs": [],
   "source": [
    "word2vec_w2v = Word2VecKeyedVectors.load_word2vec_format(\"w2v.word2vec\")"
   ]
  },
  {
   "cell_type": "markdown",
   "metadata": {},
   "source": [
    "### word2vec with Gensim"
   ]
  },
  {
   "cell_type": "code",
   "execution_count": 51,
   "metadata": {},
   "outputs": [],
   "source": [
    "import gensim\n",
    "gensim_w2v = gensim.models.Word2Vec(documents, size=100, window=5, min_count=100, workers=16)"
   ]
  },
  {
   "cell_type": "code",
   "execution_count": 43,
   "metadata": {},
   "outputs": [
    {
     "data": {
      "text/plain": [
       "11815"
      ]
     },
     "execution_count": 43,
     "metadata": {},
     "output_type": "execute_result"
    }
   ],
   "source": [
    "len(list(gensim_w2v.wv.vocab.keys()))"
   ]
  },
  {
   "cell_type": "markdown",
   "metadata": {},
   "source": [
    "---\n",
    "## III - Cosine similarity comparison"
   ]
  },
  {
   "cell_type": "code",
   "execution_count": 52,
   "metadata": {},
   "outputs": [],
   "source": [
    "def compare_similarity(w1, w2):\n",
    "    print(\"cosine similarity between\", w1, \"and\", w2, \":\")\n",
    "    print(\"\\tsvd2vec_svd \", svd2vec_svd.similarity(w1, w2))\n",
    "    print(\"\\tgensim_svd  \", gensim_svd.similarity(w1, w2))\n",
    "    print(\"\\tgensim_w2v  \", gensim_w2v.wv.similarity(w1, w2))\n",
    "    print(\"\\tword2vec_w2v\", word2vec_w2v.similarity(w1, w2))\n",
    "\n",
    "def compare_analogy(w1, w2, w3, topn=3):\n",
    "    \n",
    "    def analogy_str(model):\n",
    "        a = model.analogy(w1, w2, w3, topn=topn)\n",
    "        s = \"\\n\\t\\t\".join([\"{: <20}\".format(w) + str(c) for w, c in a])\n",
    "        return \"\\n\\t\\t\" + s\n",
    "    \n",
    "    print(\"analogy similaties :\", w1, \"is to\", w2, \"as\", w3, \"is to?\")\n",
    "    print(\"\\tsvd2vec_svd\", analogy_str(svd2vec_svd))\n",
    "    print(\"\\tgensim_svd\", analogy_str(gensim_svd))\n",
    "    print(\"\\tgensim_w2v\", analogy_str(gensim_w2v))\n",
    "    print(\"\\tword2vec_w2v\", analogy_str(word2vec_w2v))"
   ]
  },
  {
   "cell_type": "code",
   "execution_count": 53,
   "metadata": {},
   "outputs": [
    {
     "name": "stdout",
     "output_type": "stream",
     "text": [
      "cosine similarity between good and bad :\n",
      "\tsvd2vec_svd  0.4951483093832256\n",
      "\tgensim_svd   0.4951475\n",
      "\tgensim_w2v   0.7723463\n",
      "\tword2vec_w2v 0.728928\n"
     ]
    }
   ],
   "source": [
    "compare_similarity(\"good\", \"bad\")"
   ]
  },
  {
   "cell_type": "code",
   "execution_count": 54,
   "metadata": {},
   "outputs": [
    {
     "name": "stdout",
     "output_type": "stream",
     "text": [
      "cosine similarity between truck and car :\n",
      "\tsvd2vec_svd  0.8725645794464922\n",
      "\tgensim_svd   0.8725649\n",
      "\tgensim_w2v   0.71462846\n",
      "\tword2vec_w2v 0.6936528\n"
     ]
    }
   ],
   "source": [
    "compare_similarity(\"truck\", \"car\")"
   ]
  },
  {
   "cell_type": "code",
   "execution_count": 55,
   "metadata": {},
   "outputs": [
    {
     "name": "stdout",
     "output_type": "stream",
     "text": [
      "analogy similaties : january is to month as monday is to?\n",
      "\tsvd2vec_svd \n",
      "\t\tfriday              0.7990049263196153\n",
      "\t\tholiday             0.7774813849657727\n",
      "\t\tday                 0.7696653269345999\n",
      "\tgensim_svd \n",
      "\t\tfriday              0.7990041971206665\n",
      "\t\tholiday             0.7774807810783386\n",
      "\t\tday                 0.7696648836135864\n",
      "\tgensim_w2v \n",
      "\t\tweek                0.7143122553825378\n",
      "\t\tevening             0.6310715675354004\n",
      "\t\tweekend             0.6066169142723083\n",
      "\tword2vec_w2v \n",
      "\t\tweek                0.7236202359199524\n",
      "\t\tevening             0.5867935419082642\n",
      "\t\tweekend             0.5843297839164734\n"
     ]
    }
   ],
   "source": [
    "compare_analogy(\"january\", \"month\", \"monday\")"
   ]
  },
  {
   "cell_type": "code",
   "execution_count": 56,
   "metadata": {},
   "outputs": [
    {
     "name": "stdout",
     "output_type": "stream",
     "text": [
      "analogy similaties : paris is to france as berlin is to?\n",
      "\tsvd2vec_svd \n",
      "\t\tgermany             0.7687125088187668\n",
      "\t\treich               0.7243489014216623\n",
      "\t\tsch                 0.7123675101373064\n",
      "\tgensim_svd \n",
      "\t\tgermany             0.7687125205993652\n",
      "\t\treich               0.7243496179580688\n",
      "\t\tsch                 0.712367594242096\n",
      "\tgensim_w2v \n",
      "\t\tgermany             0.8262317180633545\n",
      "\t\tfinland             0.7536041140556335\n",
      "\t\taustria             0.7173164486885071\n",
      "\tword2vec_w2v \n",
      "\t\tgermany             0.840154767036438\n",
      "\t\taustria             0.6982203722000122\n",
      "\t\tpoland              0.6571524143218994\n"
     ]
    }
   ],
   "source": [
    "compare_analogy(\"paris\", \"france\", \"berlin\")"
   ]
  },
  {
   "cell_type": "code",
   "execution_count": 57,
   "metadata": {},
   "outputs": [
    {
     "name": "stdout",
     "output_type": "stream",
     "text": [
      "analogy similaties : man is to king as woman is to?\n",
      "\tsvd2vec_svd \n",
      "\t\tcrowned             0.623713716342001\n",
      "\t\tisabella            0.6024687219275104\n",
      "\t\tconsort             0.6019050828977524\n",
      "\tgensim_svd \n",
      "\t\tcrowned             0.6237134337425232\n",
      "\t\tisabella            0.6024693846702576\n",
      "\t\tconsort             0.601904571056366\n",
      "\tgensim_w2v \n",
      "\t\tqueen               0.7210809588432312\n",
      "\t\telizabeth           0.6706132888793945\n",
      "\t\tisabella            0.6488653421401978\n",
      "\tword2vec_w2v \n",
      "\t\tqueen               0.6623748540878296\n",
      "\t\tregent              0.6608081459999084\n",
      "\t\tconsort             0.6403408050537109\n"
     ]
    }
   ],
   "source": [
    "compare_analogy(\"man\", \"king\", \"woman\")"
   ]
  },
  {
   "cell_type": "code",
   "execution_count": 58,
   "metadata": {},
   "outputs": [
    {
     "name": "stdout",
     "output_type": "stream",
     "text": [
      "analogy similaties : road is to cars as rail is to?\n",
      "\tsvd2vec_svd \n",
      "\t\tlocomotives         0.7105197854472618\n",
      "\t\tdiesel              0.6920861316045748\n",
      "\t\tlocomotive          0.6578811562326874\n",
      "\tgensim_svd \n",
      "\t\tlocomotives         0.7105196714401245\n",
      "\t\tdiesel              0.6920859813690186\n",
      "\t\tlocomotive          0.6578816175460815\n",
      "\tgensim_w2v \n",
      "\t\tvehicles            0.7365255355834961\n",
      "\t\tlocomotives         0.7124711275100708\n",
      "\t\tautomobiles         0.7065150737762451\n",
      "\tword2vec_w2v \n",
      "\t\tlocomotives         0.6976078152656555\n",
      "\t\tvehicles            0.6787285804748535\n",
      "\t\tdiesel              0.6171871423721313\n"
     ]
    }
   ],
   "source": [
    "compare_analogy(\"road\", \"cars\", \"rail\")"
   ]
  },
  {
   "cell_type": "markdown",
   "metadata": {},
   "source": [
    "---\n",
    "## IV - Evaluations"
   ]
  },
  {
   "cell_type": "code",
   "execution_count": 59,
   "metadata": {},
   "outputs": [],
   "source": [
    "def compare_similarity(datafile):\n",
    "    from gensim.test.utils import datapath\n",
    "    contents = datapath(datafile)\n",
    "    print(\"pearson correlation of\", datafile)\n",
    "    print(\"\\tsvd2vec_svd   \", svd2vec_svd.evaluate_word_pairs(contents)[0])\n",
    "    print(\"\\tgensim_svd    \", gensim_svd.evaluate_word_pairs(contents)[0][0])\n",
    "    print(\"\\tgensim_w2v    \", gensim_w2v.wv.evaluate_word_pairs(contents)[0][0])\n",
    "    print(\"\\tword2vec_w2v  \", word2vec_w2v.evaluate_word_pairs(contents)[0][0])"
   ]
  },
  {
   "cell_type": "code",
   "execution_count": 60,
   "metadata": {},
   "outputs": [
    {
     "name": "stdout",
     "output_type": "stream",
     "text": [
      "pearson correlation of wordsim353.tsv\n",
      "\tsvd2vec_svd    0.6701752412518817\n",
      "\tgensim_svd     0.6805493828205335\n",
      "\tgensim_w2v     0.6570723922031956\n",
      "\tword2vec_w2v   0.6848196247009626\n"
     ]
    }
   ],
   "source": [
    "compare_similarity('wordsim353.tsv')"
   ]
  },
  {
   "cell_type": "code",
   "execution_count": 61,
   "metadata": {},
   "outputs": [],
   "source": [
    "def compare_analogy(datafile):\n",
    "    from gensim.test.utils import datapath\n",
    "    contents = datapath(datafile)\n",
    "    print(\"analogies success rate of\", datafile)\n",
    "    print(\"\\tsvd2vec_svd   \", svd2vec_svd.evaluate_word_analogies(contents))\n",
    "    print(\"\\tgensim_svd    \", gensim_svd.evaluate_word_analogies(contents)[0])\n",
    "    print(\"\\tgensim_w2v    \", gensim_w2v.wv.evaluate_word_analogies(contents)[0])\n",
    "    print(\"\\tword2vec_w2v  \", word2vec_w2v.evaluate_word_analogies(contents)[0])"
   ]
  },
  {
   "cell_type": "code",
   "execution_count": 62,
   "metadata": {},
   "outputs": [
    {
     "name": "stdout",
     "output_type": "stream",
     "text": [
      "analogies success rate of questions-words.txt\n",
      "\tsvd2vec_svd    0.31634891175974356\n",
      "\tgensim_svd     0.31634891175974356\n",
      "\tgensim_w2v     0.4552049940948203\n",
      "\tword2vec_w2v   0.5129070355997976\n"
     ]
    }
   ],
   "source": [
    "compare_analogy('questions-words.txt')"
   ]
  }
 ],
 "metadata": {
  "kernelspec": {
   "display_name": "Python 3",
   "language": "python",
   "name": "python3"
  },
  "language_info": {
   "codemirror_mode": {
    "name": "ipython",
    "version": 3
   },
   "file_extension": ".py",
   "mimetype": "text/x-python",
   "name": "python",
   "nbconvert_exporter": "python",
   "pygments_lexer": "ipython3",
   "version": "3.5.2"
  }
 },
 "nbformat": 4,
 "nbformat_minor": 2
}
