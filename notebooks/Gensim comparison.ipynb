{
 "cells": [
  {
   "cell_type": "markdown",
   "metadata": {},
   "source": [
    "# Using Gensim with `svd2vec` output\n",
    "\n",
    "[Gensim](https://pypi.org/project/gensim/) is a Python library for topic modelling, document indexing and similarity retrieval with large corpora.\n",
    "\n",
    "Gensim can use `word2vec` to compute similarity (and more!) between words. `svd2vec` can save it's vectors in a `word2vec` format that Gensim can process.\n",
    "\n",
    "In this notebook it is shown how you can use Gensim with vectors learnt from `svd2vec`. We also compare our results with the pure word2vec model. "
   ]
  },
  {
   "cell_type": "markdown",
   "metadata": {},
   "source": [
    "## I - Preparation"
   ]
  },
  {
   "cell_type": "code",
   "execution_count": 1,
   "metadata": {},
   "outputs": [],
   "source": [
    "from svd2vec import svd2vec\n",
    "from gensim.models import Word2Vec\n",
    "from gensim.models.keyedvectors import Word2VecKeyedVectors"
   ]
  },
  {
   "cell_type": "code",
   "execution_count": 2,
   "metadata": {},
   "outputs": [],
   "source": [
    "# Gensim does not have any implementation of an analogy method, so we add one here (3CosAdd)\n",
    "def analogy_keyed(self, a, b, c, topn=10):\n",
    "    return self.most_similar(positive=[b, c], negative=[a], topn=topn)\n",
    "Word2VecKeyedVectors.analogy = analogy_keyed\n",
    "def analogy_w2v(self, a, b, c, topn=10):\n",
    "    return self.wv.most_similar(positive=[b, c], negative=[a], topn=topn)\n",
    "Word2Vec.analogy = analogy_w2v"
   ]
  },
  {
   "cell_type": "code",
   "execution_count": 3,
   "metadata": {},
   "outputs": [],
   "source": [
    "# we load our previously made text8 document list\n",
    "documents = [open(\"text8\", \"r\").read().split(\" \")[1:]]"
   ]
  },
  {
   "cell_type": "markdown",
   "metadata": {},
   "source": [
    "## II - Models construction"
   ]
  },
  {
   "cell_type": "markdown",
   "metadata": {},
   "source": [
    "### SVD with svd2vec"
   ]
  },
  {
   "cell_type": "code",
   "execution_count": 4,
   "metadata": {},
   "outputs": [
    {
     "data": {
      "application/vnd.jupyter.widget-view+json": {
       "model_id": "9a4eb78db58241189d2ecb797bc03b05",
       "version_major": 2,
       "version_minor": 0
      },
      "text/html": [
       "<p>Failed to display Jupyter Widget of type <code>HBox</code>.</p>\n",
       "<p>\n",
       "  If you're reading this message in Jupyter Notebook or JupyterLab, it may mean\n",
       "  that the widgets JavaScript is still loading. If this message persists, it\n",
       "  likely means that the widgets JavaScript library is either not installed or\n",
       "  not enabled. See the <a href=\"https://ipywidgets.readthedocs.io/en/stable/user_install.html\">Jupyter\n",
       "  Widgets Documentation</a> for setup instructions.\n",
       "</p>\n",
       "<p>\n",
       "  If you're reading this message in another notebook frontend (for example, a static\n",
       "  rendering on GitHub or <a href=\"https://nbviewer.jupyter.org/\">NBViewer</a>),\n",
       "  it may mean that your frontend doesn't currently support widgets.\n",
       "</p>\n"
      ],
      "text/plain": [
       "HBox(children=(IntProgress(value=0, description='vocabulary building', max=8), HTML(value='')))"
      ]
     },
     "metadata": {},
     "output_type": "display_data"
    },
    {
     "name": "stdout",
     "output_type": "stream",
     "text": [
      "\r"
     ]
    },
    {
     "data": {
      "application/vnd.jupyter.widget-view+json": {
       "model_id": "d0dd1e6542404326aabafdb2b109ac1c",
       "version_major": 2,
       "version_minor": 0
      },
      "text/html": [
       "<p>Failed to display Jupyter Widget of type <code>HBox</code>.</p>\n",
       "<p>\n",
       "  If you're reading this message in Jupyter Notebook or JupyterLab, it may mean\n",
       "  that the widgets JavaScript is still loading. If this message persists, it\n",
       "  likely means that the widgets JavaScript library is either not installed or\n",
       "  not enabled. See the <a href=\"https://ipywidgets.readthedocs.io/en/stable/user_install.html\">Jupyter\n",
       "  Widgets Documentation</a> for setup instructions.\n",
       "</p>\n",
       "<p>\n",
       "  If you're reading this message in another notebook frontend (for example, a static\n",
       "  rendering on GitHub or <a href=\"https://nbviewer.jupyter.org/\">NBViewer</a>),\n",
       "  it may mean that your frontend doesn't currently support widgets.\n",
       "</p>\n"
      ],
      "text/plain": [
       "HBox(children=(IntProgress(value=0, description='document subsampling', max=1), HTML(value='')))"
      ]
     },
     "metadata": {},
     "output_type": "display_data"
    },
    {
     "data": {
      "application/vnd.jupyter.widget-view+json": {
       "model_id": "67830ccf1e63455db11822a1c898e9c5",
       "version_major": 2,
       "version_minor": 0
      },
      "text/html": [
       "<p>Failed to display Jupyter Widget of type <code>HBox</code>.</p>\n",
       "<p>\n",
       "  If you're reading this message in Jupyter Notebook or JupyterLab, it may mean\n",
       "  that the widgets JavaScript is still loading. If this message persists, it\n",
       "  likely means that the widgets JavaScript library is either not installed or\n",
       "  not enabled. See the <a href=\"https://ipywidgets.readthedocs.io/en/stable/user_install.html\">Jupyter\n",
       "  Widgets Documentation</a> for setup instructions.\n",
       "</p>\n",
       "<p>\n",
       "  If you're reading this message in another notebook frontend (for example, a static\n",
       "  rendering on GitHub or <a href=\"https://nbviewer.jupyter.org/\">NBViewer</a>),\n",
       "  it may mean that your frontend doesn't currently support widgets.\n",
       "</p>\n"
      ],
      "text/plain": [
       "HBox(children=(IntProgress(value=0, description='word subsampling', max=17005207), HTML(value='')))"
      ]
     },
     "metadata": {},
     "output_type": "display_data"
    },
    {
     "name": "stdout",
     "output_type": "stream",
     "text": [
      "\r"
     ]
    },
    {
     "data": {
      "application/vnd.jupyter.widget-view+json": {
       "model_id": "c83126af81ff46139736444332d5685d",
       "version_major": 2,
       "version_minor": 0
      },
      "text/html": [
       "<p>Failed to display Jupyter Widget of type <code>HBox</code>.</p>\n",
       "<p>\n",
       "  If you're reading this message in Jupyter Notebook or JupyterLab, it may mean\n",
       "  that the widgets JavaScript is still loading. If this message persists, it\n",
       "  likely means that the widgets JavaScript library is either not installed or\n",
       "  not enabled. See the <a href=\"https://ipywidgets.readthedocs.io/en/stable/user_install.html\">Jupyter\n",
       "  Widgets Documentation</a> for setup instructions.\n",
       "</p>\n",
       "<p>\n",
       "  If you're reading this message in another notebook frontend (for example, a static\n",
       "  rendering on GitHub or <a href=\"https://nbviewer.jupyter.org/\">NBViewer</a>),\n",
       "  it may mean that your frontend doesn't currently support widgets.\n",
       "</p>\n"
      ],
      "text/plain": [
       "HBox(children=(IntProgress(value=0, description='vocabulary building', max=8), HTML(value='')))"
      ]
     },
     "metadata": {},
     "output_type": "display_data"
    },
    {
     "name": "stdout",
     "output_type": "stream",
     "text": [
      "\r"
     ]
    },
    {
     "data": {
      "application/vnd.jupyter.widget-view+json": {
       "model_id": "6fd266b7e46648988c8f4a79149d102f",
       "version_major": 2,
       "version_minor": 0
      },
      "text/html": [
       "<p>Failed to display Jupyter Widget of type <code>HBox</code>.</p>\n",
       "<p>\n",
       "  If you're reading this message in Jupyter Notebook or JupyterLab, it may mean\n",
       "  that the widgets JavaScript is still loading. If this message persists, it\n",
       "  likely means that the widgets JavaScript library is either not installed or\n",
       "  not enabled. See the <a href=\"https://ipywidgets.readthedocs.io/en/stable/user_install.html\">Jupyter\n",
       "  Widgets Documentation</a> for setup instructions.\n",
       "</p>\n",
       "<p>\n",
       "  If you're reading this message in another notebook frontend (for example, a static\n",
       "  rendering on GitHub or <a href=\"https://nbviewer.jupyter.org/\">NBViewer</a>),\n",
       "  it may mean that your frontend doesn't currently support widgets.\n",
       "</p>\n"
      ],
      "text/plain": [
       "HBox(children=(IntProgress(value=0, description='co-occurence counting', max=1), HTML(value='')))"
      ]
     },
     "metadata": {},
     "output_type": "display_data"
    },
    {
     "data": {
      "application/vnd.jupyter.widget-view+json": {
       "model_id": "830b991d61714859b9a5999a6a24f542",
       "version_major": 2,
       "version_minor": 0
      },
      "text/html": [
       "<p>Failed to display Jupyter Widget of type <code>HBox</code>.</p>\n",
       "<p>\n",
       "  If you're reading this message in Jupyter Notebook or JupyterLab, it may mean\n",
       "  that the widgets JavaScript is still loading. If this message persists, it\n",
       "  likely means that the widgets JavaScript library is either not installed or\n",
       "  not enabled. See the <a href=\"https://ipywidgets.readthedocs.io/en/stable/user_install.html\">Jupyter\n",
       "  Widgets Documentation</a> for setup instructions.\n",
       "</p>\n",
       "<p>\n",
       "  If you're reading this message in another notebook frontend (for example, a static\n",
       "  rendering on GitHub or <a href=\"https://nbviewer.jupyter.org/\">NBViewer</a>),\n",
       "  it may mean that your frontend doesn't currently support widgets.\n",
       "</p>\n"
      ],
      "text/plain": [
       "HBox(children=(IntProgress(value=0, description='document co-occurence counting', max=27562788), HTML(value='')))"
      ]
     },
     "metadata": {},
     "output_type": "display_data"
    },
    {
     "name": "stdout",
     "output_type": "stream",
     "text": [
      "\r"
     ]
    },
    {
     "data": {
      "application/vnd.jupyter.widget-view+json": {
       "model_id": "016502957a214e2d96f7963185ced6c8",
       "version_major": 2,
       "version_minor": 0
      },
      "text/html": [
       "<p>Failed to display Jupyter Widget of type <code>HBox</code>.</p>\n",
       "<p>\n",
       "  If you're reading this message in Jupyter Notebook or JupyterLab, it may mean\n",
       "  that the widgets JavaScript is still loading. If this message persists, it\n",
       "  likely means that the widgets JavaScript library is either not installed or\n",
       "  not enabled. See the <a href=\"https://ipywidgets.readthedocs.io/en/stable/user_install.html\">Jupyter\n",
       "  Widgets Documentation</a> for setup instructions.\n",
       "</p>\n",
       "<p>\n",
       "  If you're reading this message in another notebook frontend (for example, a static\n",
       "  rendering on GitHub or <a href=\"https://nbviewer.jupyter.org/\">NBViewer</a>),\n",
       "  it may mean that your frontend doesn't currently support widgets.\n",
       "</p>\n"
      ],
      "text/plain": [
       "HBox(children=(IntProgress(value=0, description='singular value decomposition', max=5), HTML(value='')))"
      ]
     },
     "metadata": {},
     "output_type": "display_data"
    },
    {
     "name": "stdout",
     "output_type": "stream",
     "text": [
      "\r"
     ]
    }
   ],
   "source": [
    "svd2vec_svd = svd2vec(documents, size=100, window=5, min_count=100, verbose=True)"
   ]
  },
  {
   "cell_type": "markdown",
   "metadata": {},
   "source": [
    "### SVD with Gensim from svd2vec"
   ]
  },
  {
   "cell_type": "code",
   "execution_count": 5,
   "metadata": {},
   "outputs": [],
   "source": [
    "# we first need to export svd2vec_svd to the word2vec format\n",
    "svd2vec_svd.save_word2vec_format(\"svd.word2vec\")\n",
    "\n",
    "gensim_svd = Word2VecKeyedVectors.load_word2vec_format(\"svd.word2vec\")"
   ]
  },
  {
   "cell_type": "markdown",
   "metadata": {},
   "source": [
    "### word2vec"
   ]
  },
  {
   "cell_type": "code",
   "execution_count": 6,
   "metadata": {},
   "outputs": [],
   "source": [
    "word2vec_w2v = Word2VecKeyedVectors.load_word2vec_format(\"w2v.word2vec\")"
   ]
  },
  {
   "cell_type": "markdown",
   "metadata": {},
   "source": [
    "### word2vec with Gensim"
   ]
  },
  {
   "cell_type": "code",
   "execution_count": 7,
   "metadata": {},
   "outputs": [],
   "source": [
    "gensim_w2v = Word2Vec(documents, size=100, window=5, min_count=100, workers=16)"
   ]
  },
  {
   "cell_type": "markdown",
   "metadata": {},
   "source": [
    "## III - Cosine similarity comparison"
   ]
  },
  {
   "cell_type": "code",
   "execution_count": 8,
   "metadata": {},
   "outputs": [],
   "source": [
    "def compare_similarity(w1, w2):\n",
    "    print(\"cosine similarity between\", w1, \"and\", w2, \":\")\n",
    "    print(\"\\tsvd2vec_svd \", svd2vec_svd.similarity(w1, w2))\n",
    "    print(\"\\tgensim_svd  \", gensim_svd.similarity(w1, w2))\n",
    "    print(\"\\tgensim_w2v  \", gensim_w2v.wv.similarity(w1, w2))\n",
    "    print(\"\\tword2vec_w2v\", word2vec_w2v.similarity(w1, w2))\n",
    "\n",
    "def compare_analogy(w1, w2, w3, topn=3):\n",
    "    \n",
    "    def analogy_str(model):\n",
    "        a = model.analogy(w1, w2, w3, topn=topn)\n",
    "        s = \"\\n\\t\\t\".join([\"{: <20}\".format(w) + str(c) for w, c in a])\n",
    "        return \"\\n\\t\\t\" + s\n",
    "    \n",
    "    print(\"analogy similaties :\", w1, \"is to\", w2, \"as\", w3, \"is?\")\n",
    "    print(\"\\tsvd2vec_svd\", analogy_str(svd2vec_svd))\n",
    "    print(\"\\tgensim_svd\", analogy_str(gensim_svd))\n",
    "    print(\"\\tgensim_w2v\", analogy_str(gensim_w2v))\n",
    "    print(\"\\tword2vec_w2v\", analogy_str(word2vec_w2v))"
   ]
  },
  {
   "cell_type": "code",
   "execution_count": 9,
   "metadata": {},
   "outputs": [
    {
     "name": "stdout",
     "output_type": "stream",
     "text": [
      "cosine similarity between good and bad :\n",
      "\tsvd2vec_svd  0.5504379599034731\n",
      "\tgensim_svd   0.5876901\n",
      "\tgensim_w2v   0.7860587\n",
      "\tword2vec_w2v 0.728928\n"
     ]
    }
   ],
   "source": [
    "compare_similarity(\"good\", \"bad\")"
   ]
  },
  {
   "cell_type": "code",
   "execution_count": 10,
   "metadata": {},
   "outputs": [
    {
     "name": "stdout",
     "output_type": "stream",
     "text": [
      "cosine similarity between truck and car :\n",
      "\tsvd2vec_svd  0.8939523214976283\n",
      "\tgensim_svd   0.89361215\n",
      "\tgensim_w2v   0.0072198664\n",
      "\tword2vec_w2v 0.6936528\n"
     ]
    }
   ],
   "source": [
    "compare_similarity(\"truck\", \"car\")"
   ]
  },
  {
   "cell_type": "code",
   "execution_count": null,
   "metadata": {},
   "outputs": [],
   "source": []
  },
  {
   "cell_type": "code",
   "execution_count": 11,
   "metadata": {},
   "outputs": [
    {
     "name": "stdout",
     "output_type": "stream",
     "text": [
      "analogy similaties : january is to month as monday is?\n",
      "\tsvd2vec_svd \n",
      "\t\tfriday              0.8682570767447222\n",
      "\t\tsunday              0.8353025497528591\n",
      "\t\tday                 0.8256563355542673\n",
      "\tgensim_svd \n",
      "\t\tfriday              0.8007766008377075\n",
      "\t\tsunday              0.7773827910423279\n",
      "\t\tholiday             0.7657022476196289\n",
      "\tgensim_w2v \n",
      "\t\tdalek               0.36530444025993347\n",
      "\t\ttiles               0.361540287733078\n",
      "\t\tbelfast             0.35483139753341675\n",
      "\tword2vec_w2v \n",
      "\t\tweek                0.7236202359199524\n",
      "\t\tevening             0.5867935419082642\n",
      "\t\tweekend             0.5843297839164734\n"
     ]
    }
   ],
   "source": [
    "compare_analogy(\"january\", \"month\", \"monday\")"
   ]
  },
  {
   "cell_type": "code",
   "execution_count": 12,
   "metadata": {},
   "outputs": [
    {
     "name": "stdout",
     "output_type": "stream",
     "text": [
      "analogy similaties : paris is to france as berlin is?\n",
      "\tsvd2vec_svd \n",
      "\t\tgermany             0.7825258417507117\n",
      "\t\tbavaria             0.7510495678301725\n",
      "\t\tbohemia             0.7377872864742052\n",
      "\tgensim_svd \n",
      "\t\tgermany             0.7823131680488586\n",
      "\t\tbavaria             0.7529295086860657\n",
      "\t\tbohemia             0.7433863878250122\n",
      "\tgensim_w2v \n",
      "\t\till                 0.506828784942627\n",
      "\t\tbroad               0.4927492141723633\n",
      "\t\tthinking            0.48729899525642395\n",
      "\tword2vec_w2v \n",
      "\t\tgermany             0.840154767036438\n",
      "\t\taustria             0.6982203722000122\n",
      "\t\tpoland              0.6571524143218994\n"
     ]
    }
   ],
   "source": [
    "compare_analogy(\"paris\", \"france\", \"berlin\")"
   ]
  },
  {
   "cell_type": "code",
   "execution_count": 13,
   "metadata": {},
   "outputs": [
    {
     "name": "stdout",
     "output_type": "stream",
     "text": [
      "analogy similaties : man is to king as woman is?\n",
      "\tsvd2vec_svd \n",
      "\t\tcrowned             0.7047109153331894\n",
      "\t\tisabella            0.6854431847920825\n",
      "\t\tprincess            0.6776985971421638\n",
      "\tgensim_svd \n",
      "\t\tcrowned             0.6701698303222656\n",
      "\t\tisabella            0.6435418725013733\n",
      "\t\taragon              0.6117964386940002\n",
      "\tgensim_w2v \n",
      "\t\tvertically          0.3507192134857178\n",
      "\t\ttribute             0.35013657808303833\n",
      "\t\tbodies              0.34026482701301575\n",
      "\tword2vec_w2v \n",
      "\t\tqueen               0.6623748540878296\n",
      "\t\tregent              0.6608081459999084\n",
      "\t\tconsort             0.6403408050537109\n"
     ]
    }
   ],
   "source": [
    "compare_analogy(\"man\", \"king\", \"woman\")"
   ]
  },
  {
   "cell_type": "code",
   "execution_count": 14,
   "metadata": {},
   "outputs": [
    {
     "name": "stdout",
     "output_type": "stream",
     "text": [
      "analogy similaties : road is to cars as rail is?\n",
      "\tsvd2vec_svd \n",
      "\t\ttrucks              0.7964549207299332\n",
      "\t\tlocomotives         0.7963730030443246\n",
      "\t\tlocomotive          0.7864856354090771\n",
      "\tgensim_svd \n",
      "\t\ttrucks              0.7512880563735962\n",
      "\t\tlocomotives         0.7415914535522461\n",
      "\t\tlocomotive          0.7235795259475708\n",
      "\tgensim_w2v \n",
      "\t\tarms                0.6313320398330688\n",
      "\t\tresponse            0.6201116442680359\n",
      "\t\tverbal              0.5980525016784668\n",
      "\tword2vec_w2v \n",
      "\t\tlocomotives         0.6976078152656555\n",
      "\t\tvehicles            0.6787285804748535\n",
      "\t\tdiesel              0.6171871423721313\n"
     ]
    }
   ],
   "source": [
    "compare_analogy(\"road\", \"cars\", \"rail\")"
   ]
  },
  {
   "cell_type": "markdown",
   "metadata": {},
   "source": [
    "<br /><br /><br /><br />"
   ]
  },
  {
   "cell_type": "code",
   "execution_count": 15,
   "metadata": {},
   "outputs": [
    {
     "ename": "NameError",
     "evalue": "name 'svd' is not defined",
     "output_type": "error",
     "traceback": [
      "\u001b[0;31m---------------------------------------------------------------------------\u001b[0m",
      "\u001b[0;31mNameError\u001b[0m                                 Traceback (most recent call last)",
      "\u001b[0;32m<ipython-input-15-ced22ad2ec95>\u001b[0m in \u001b[0;36m<module>\u001b[0;34m()\u001b[0m\n\u001b[0;32m----> 1\u001b[0;31m \u001b[0msvd\u001b[0m\u001b[0;34m.\u001b[0m\u001b[0manalogy\u001b[0m\u001b[0;34m(\u001b[0m\u001b[0;34m\"cow\"\u001b[0m\u001b[0;34m,\u001b[0m \u001b[0;34m\"cows\"\u001b[0m\u001b[0;34m,\u001b[0m \u001b[0;34m\"pig\"\u001b[0m\u001b[0;34m)\u001b[0m\u001b[0;34m\u001b[0m\u001b[0m\n\u001b[0m",
      "\u001b[0;31mNameError\u001b[0m: name 'svd' is not defined"
     ]
    }
   ],
   "source": [
    "svd.analogy(\"cow\", \"cows\", \"pig\")"
   ]
  },
  {
   "cell_type": "code",
   "execution_count": null,
   "metadata": {},
   "outputs": [],
   "source": [
    "gensim_svd.analogy(\"cow\", \"cows\", \"pig\")"
   ]
  },
  {
   "cell_type": "code",
   "execution_count": null,
   "metadata": {},
   "outputs": [],
   "source": [
    "svd.analogy(\"road\", \"cars\", \"rail\")"
   ]
  },
  {
   "cell_type": "code",
   "execution_count": null,
   "metadata": {},
   "outputs": [],
   "source": [
    "gensim_svd.analogy(\"road\", \"cars\", \"rail\")"
   ]
  },
  {
   "cell_type": "code",
   "execution_count": null,
   "metadata": {
    "scrolled": true
   },
   "outputs": [],
   "source": [
    "svd2vec_svd.analogy(\"tokyo\", \"japan\", \"berlin\")"
   ]
  },
  {
   "cell_type": "code",
   "execution_count": null,
   "metadata": {},
   "outputs": [],
   "source": [
    "gensim_svd.analogy(\"tokyo\", \"japan\", \"berlin\")"
   ]
  },
  {
   "cell_type": "code",
   "execution_count": null,
   "metadata": {},
   "outputs": [],
   "source": [
    "gensim_w2v.analogy(\"tokyo\", \"japan\", \"berlin\")"
   ]
  },
  {
   "cell_type": "markdown",
   "metadata": {},
   "source": [
    "## III - Analogy evaluation"
   ]
  },
  {
   "cell_type": "code",
   "execution_count": null,
   "metadata": {},
   "outputs": [],
   "source": [
    "import requests\n",
    "url = \"http://download.tensorflow.org/data/questions-words.txt\"\n",
    "contents  = requests.get(url).content\n",
    "analogies = [str(e)[2:-1].lower().split(\" \") for e in contents.splitlines()][1:]\n",
    "kept_analogies = [a for a in analogies if len(a) == 4 and all([w in svd.vocabulary for w in a])]"
   ]
  },
  {
   "cell_type": "code",
   "execution_count": null,
   "metadata": {},
   "outputs": [],
   "source": [
    "from tqdm import tqdm_notebook\n",
    "\n",
    "svd_errors = 0\n",
    "gensim_errors = 0\n",
    "total = len(kept_analogies)\n",
    "\n",
    "for a, b, c, d in tqdm_notebook(kept_analogies):\n",
    "    word, _ = svd.analogy(a, b, c, topn=1)[0]\n",
    "    if word != d:\n",
    "        svd_errors += 1\n",
    "    word, _ = gensim_svd.analogy(a, b, c, topn=1)[0]\n",
    "    if word != d:\n",
    "        gensim_errors += 1"
   ]
  },
  {
   "cell_type": "code",
   "execution_count": null,
   "metadata": {},
   "outputs": [],
   "source": [
    "print(\"svd2vec error rate\", 100.0 * svd_errors / total, \"%\")\n",
    "print(\"gensim  error rate\", 100.0 * gensim_errors / total, \"%\")"
   ]
  },
  {
   "cell_type": "code",
   "execution_count": null,
   "metadata": {},
   "outputs": [],
   "source": [
    "print(svd_errors)\n",
    "print(gensim_errors)"
   ]
  },
  {
   "cell_type": "code",
   "execution_count": 19,
   "metadata": {},
   "outputs": [],
   "source": [
    "def compare_similarity(datafile):\n",
    "    from gensim.test.utils import datapath\n",
    "    contents = datapath(datafile)\n",
    "    print(\"pearson correlation of\", datafile)\n",
    "    print(\"\\tsvd2vec_svd   \", svd2vec_svd.evaluate_word_pairs(contents)[0])\n",
    "    print(\"\\tgensim_svd    \", gensim_svd.evaluate_word_pairs(contents)[0][0])\n",
    "    print(\"\\tgensim_w2v    \", gensim_w2v.wv.evaluate_word_pairs(contents)[0][0])\n",
    "    print(\"\\tword2vec_w2v  \", word2vec_w2v.evaluate_word_pairs(contents)[0][0])"
   ]
  },
  {
   "cell_type": "code",
   "execution_count": 20,
   "metadata": {},
   "outputs": [
    {
     "name": "stdout",
     "output_type": "stream",
     "text": [
      "pearson correlation of wordsim353.tsv\n",
      "\tsvd2vec_svd    0.6572054770519338\n",
      "\tgensim_svd     0.6755807968890952\n",
      "\tgensim_w2v     0.026901246050755875\n",
      "\tword2vec_w2v   0.6848196247009626\n"
     ]
    }
   ],
   "source": [
    "compare_similarity('wordsim353.tsv')"
   ]
  },
  {
   "cell_type": "code",
   "execution_count": 29,
   "metadata": {},
   "outputs": [
    {
     "data": {
      "text/plain": [
       "'/home/s150789/.local/lib/python3.5/site-packages/gensim/test/test_data/wordsim353.tsv'"
      ]
     },
     "execution_count": 29,
     "metadata": {},
     "output_type": "execute_result"
    }
   ],
   "source": [
    "datapath('wordsim353.tsv')"
   ]
  },
  {
   "cell_type": "code",
   "execution_count": 23,
   "metadata": {},
   "outputs": [],
   "source": [
    "def compare_analogy(datafile):\n",
    "    from gensim.test.utils import datapath\n",
    "    contents = datapath(datafile)\n",
    "    print(\"analogies success rate of\", datafile)\n",
    "    print(\"\\tword2vec_w2v  \", word2vec_w2v.evaluate_word_analogies(contents)[0])"
   ]
  },
  {
   "cell_type": "code",
   "execution_count": 24,
   "metadata": {},
   "outputs": [
    {
     "name": "stdout",
     "output_type": "stream",
     "text": [
      "analogies success rate of questions-words.txt\n",
      "\tword2vec_w2v   0.5129070355997976\n"
     ]
    }
   ],
   "source": [
    "compare_analogy('questions-words.txt')"
   ]
  },
  {
   "cell_type": "code",
   "execution_count": null,
   "metadata": {},
   "outputs": [],
   "source": []
  }
 ],
 "metadata": {
  "kernelspec": {
   "display_name": "Python 3",
   "language": "python",
   "name": "python3"
  },
  "language_info": {
   "codemirror_mode": {
    "name": "ipython",
    "version": 3
   },
   "file_extension": ".py",
   "mimetype": "text/x-python",
   "name": "python",
   "nbconvert_exporter": "python",
   "pygments_lexer": "ipython3",
   "version": "3.5.2"
  }
 },
 "nbformat": 4,
 "nbformat_minor": 2
}
