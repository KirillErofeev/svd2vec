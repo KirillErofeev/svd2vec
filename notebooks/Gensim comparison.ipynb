{
 "cells": [
  {
   "cell_type": "markdown",
   "metadata": {},
   "source": [
    "# Using Gensim with `svd2vec` output\n",
    "\n",
    "[Gensim](https://pypi.org/project/gensim/) is a Python library for topic modelling, document indexing and similarity retrieval with large corpora.\n",
    "\n",
    "Gensim can use `word2vec` to compute similarity (and more!) between words. `svd2vec` can save it's vectors in a `word2vec` format that Gensim can process.\n",
    "\n",
    "In this notebook it is shown how you can use Gensim with vectors learnt from `svd2vec`. We also compare our results with the pure word2vec model. "
   ]
  },
  {
   "cell_type": "markdown",
   "metadata": {},
   "source": [
    "---\n",
    "## I - Preparation"
   ]
  },
  {
   "cell_type": "code",
   "execution_count": 1,
   "metadata": {},
   "outputs": [],
   "source": [
    "from svd2vec import svd2vec, FilesIO\n",
    "from gensim.models import Word2Vec\n",
    "from gensim.models.keyedvectors import Word2VecKeyedVectors"
   ]
  },
  {
   "cell_type": "code",
   "execution_count": 2,
   "metadata": {},
   "outputs": [],
   "source": [
    "# Gensim does not have any implementation of an analogy method, so we add one here (3CosAdd)\n",
    "def analogy_keyed(self, a, b, c, topn=10):\n",
    "    return self.most_similar(positive=[b, c], negative=[a], topn=topn)\n",
    "Word2VecKeyedVectors.analogy = analogy_keyed\n",
    "def analogy_w2v(self, a, b, c, topn=10):\n",
    "    return self.wv.most_similar(positive=[b, c], negative=[a], topn=topn)\n",
    "Word2Vec.analogy = analogy_w2v"
   ]
  },
  {
   "cell_type": "code",
   "execution_count": 8,
   "metadata": {},
   "outputs": [],
   "source": [
    "documents = FilesIO.load_corpus(\"text8\")"
   ]
  },
  {
   "cell_type": "markdown",
   "metadata": {},
   "source": [
    "---\n",
    "## II - Models construction"
   ]
  },
  {
   "cell_type": "markdown",
   "metadata": {},
   "source": [
    "### SVD with svd2vec"
   ]
  },
  {
   "cell_type": "code",
   "execution_count": 9,
   "metadata": {},
   "outputs": [],
   "source": [
    "svd2vec_svd = svd2vec(documents, size=300, window=5, min_count=100, verbose=False)"
   ]
  },
  {
   "cell_type": "markdown",
   "metadata": {},
   "source": [
    "### SVD with Gensim from svd2vec"
   ]
  },
  {
   "cell_type": "code",
   "execution_count": 10,
   "metadata": {},
   "outputs": [],
   "source": [
    "# we first need to export svd2vec_svd to the word2vec format\n",
    "svd2vec_svd.save_word2vec_format(\"svd.word2vec\")\n",
    "\n",
    "# we then load the model using Gensim\n",
    "gensim_svd = Word2VecKeyedVectors.load_word2vec_format(\"svd.word2vec\")"
   ]
  },
  {
   "cell_type": "markdown",
   "metadata": {},
   "source": [
    "### word2vec"
   ]
  },
  {
   "cell_type": "code",
   "execution_count": 16,
   "metadata": {},
   "outputs": [
    {
     "name": "stdout",
     "output_type": "stream",
     "text": [
      "Starting training using file text8\n",
      "Vocab size: 11816\n",
      "Words in train file: 15471434\n",
      "Alpha: 0.000005  Progress: 100.04%  Words/thread/sec: 208.82k  "
     ]
    }
   ],
   "source": [
    "import os\n",
    "if not os.path.isfile(\"w2v.word2vec\") or True:\n",
    "    # we train the model using word2vec (needs to be installed)\n",
    "    !word2vec -min-count 100 -size 300 -window 5 -train text8 -output w2v.word2vec\n",
    "\n",
    "# we load it\n",
    "word2vec_w2v = Word2VecKeyedVectors.load_word2vec_format(\"w2v.word2vec\")"
   ]
  },
  {
   "cell_type": "markdown",
   "metadata": {},
   "source": [
    "### word2vec with Gensim"
   ]
  },
  {
   "cell_type": "code",
   "execution_count": 7,
   "metadata": {},
   "outputs": [],
   "source": [
    "gensim_w2v = Word2Vec(documents, size=300, window=5, min_count=100, workers=16)"
   ]
  },
  {
   "cell_type": "markdown",
   "metadata": {},
   "source": [
    "---\n",
    "## III - Cosine similarity comparison"
   ]
  },
  {
   "cell_type": "code",
   "execution_count": 8,
   "metadata": {},
   "outputs": [],
   "source": [
    "def compare_similarity(w1, w2):\n",
    "    print(\"cosine similarity between\", w1, \"and\", w2, \":\")\n",
    "    print(\"\\tsvd2vec_svd \", svd2vec_svd.similarity(w1, w2))\n",
    "    print(\"\\tgensim_svd  \", gensim_svd.similarity(w1, w2))\n",
    "    print(\"\\tgensim_w2v  \", gensim_w2v.wv.similarity(w1, w2))\n",
    "    print(\"\\tword2vec_w2v\", word2vec_w2v.similarity(w1, w2))\n",
    "\n",
    "def compare_analogy(w1, w2, w3, topn=3):\n",
    "    \n",
    "    def analogy_str(model):\n",
    "        a = model.analogy(w1, w2, w3, topn=topn)\n",
    "        s = \"\\n\\t\\t\".join([\"{: <20}\".format(w) + str(c) for w, c in a])\n",
    "        return \"\\n\\t\\t\" + s\n",
    "    \n",
    "    print(\"analogy similaties :\", w1, \"is to\", w2, \"as\", w3, \"is to?\")\n",
    "    print(\"\\tsvd2vec_svd\", analogy_str(svd2vec_svd))\n",
    "    print(\"\\tgensim_svd\", analogy_str(gensim_svd))\n",
    "    print(\"\\tgensim_w2v\", analogy_str(gensim_w2v))\n",
    "    print(\"\\tword2vec_w2v\", analogy_str(word2vec_w2v))"
   ]
  },
  {
   "cell_type": "code",
   "execution_count": 9,
   "metadata": {},
   "outputs": [
    {
     "name": "stdout",
     "output_type": "stream",
     "text": [
      "cosine similarity between good and bad :\n",
      "\tsvd2vec_svd  0.5542564783462338\n",
      "\tgensim_svd   0.55425656\n"
     ]
    },
    {
     "ename": "NameError",
     "evalue": "name 'gensim_w2v' is not defined",
     "output_type": "error",
     "traceback": [
      "\u001b[0;31m---------------------------------------------------------------------------\u001b[0m",
      "\u001b[0;31mNameError\u001b[0m                                 Traceback (most recent call last)",
      "\u001b[0;32m<ipython-input-9-734433f8ebf5>\u001b[0m in \u001b[0;36m<module>\u001b[0;34m()\u001b[0m\n\u001b[0;32m----> 1\u001b[0;31m \u001b[0mcompare_similarity\u001b[0m\u001b[0;34m(\u001b[0m\u001b[0;34m\"good\"\u001b[0m\u001b[0;34m,\u001b[0m \u001b[0;34m\"bad\"\u001b[0m\u001b[0;34m)\u001b[0m\u001b[0;34m\u001b[0m\u001b[0m\n\u001b[0m",
      "\u001b[0;32m<ipython-input-8-20c164662123>\u001b[0m in \u001b[0;36mcompare_similarity\u001b[0;34m(w1, w2)\u001b[0m\n\u001b[1;32m      3\u001b[0m     \u001b[0mprint\u001b[0m\u001b[0;34m(\u001b[0m\u001b[0;34m\"\\tsvd2vec_svd \"\u001b[0m\u001b[0;34m,\u001b[0m \u001b[0msvd2vec_svd\u001b[0m\u001b[0;34m.\u001b[0m\u001b[0msimilarity\u001b[0m\u001b[0;34m(\u001b[0m\u001b[0mw1\u001b[0m\u001b[0;34m,\u001b[0m \u001b[0mw2\u001b[0m\u001b[0;34m)\u001b[0m\u001b[0;34m)\u001b[0m\u001b[0;34m\u001b[0m\u001b[0m\n\u001b[1;32m      4\u001b[0m     \u001b[0mprint\u001b[0m\u001b[0;34m(\u001b[0m\u001b[0;34m\"\\tgensim_svd  \"\u001b[0m\u001b[0;34m,\u001b[0m \u001b[0mgensim_svd\u001b[0m\u001b[0;34m.\u001b[0m\u001b[0msimilarity\u001b[0m\u001b[0;34m(\u001b[0m\u001b[0mw1\u001b[0m\u001b[0;34m,\u001b[0m \u001b[0mw2\u001b[0m\u001b[0;34m)\u001b[0m\u001b[0;34m)\u001b[0m\u001b[0;34m\u001b[0m\u001b[0m\n\u001b[0;32m----> 5\u001b[0;31m     \u001b[0mprint\u001b[0m\u001b[0;34m(\u001b[0m\u001b[0;34m\"\\tgensim_w2v  \"\u001b[0m\u001b[0;34m,\u001b[0m \u001b[0mgensim_w2v\u001b[0m\u001b[0;34m.\u001b[0m\u001b[0mwv\u001b[0m\u001b[0;34m.\u001b[0m\u001b[0msimilarity\u001b[0m\u001b[0;34m(\u001b[0m\u001b[0mw1\u001b[0m\u001b[0;34m,\u001b[0m \u001b[0mw2\u001b[0m\u001b[0;34m)\u001b[0m\u001b[0;34m)\u001b[0m\u001b[0;34m\u001b[0m\u001b[0m\n\u001b[0m\u001b[1;32m      6\u001b[0m     \u001b[0mprint\u001b[0m\u001b[0;34m(\u001b[0m\u001b[0;34m\"\\tword2vec_w2v\"\u001b[0m\u001b[0;34m,\u001b[0m \u001b[0mword2vec_w2v\u001b[0m\u001b[0;34m.\u001b[0m\u001b[0msimilarity\u001b[0m\u001b[0;34m(\u001b[0m\u001b[0mw1\u001b[0m\u001b[0;34m,\u001b[0m \u001b[0mw2\u001b[0m\u001b[0;34m)\u001b[0m\u001b[0;34m)\u001b[0m\u001b[0;34m\u001b[0m\u001b[0m\n\u001b[1;32m      7\u001b[0m \u001b[0;34m\u001b[0m\u001b[0m\n",
      "\u001b[0;31mNameError\u001b[0m: name 'gensim_w2v' is not defined"
     ]
    }
   ],
   "source": [
    "compare_similarity(\"good\", \"bad\")"
   ]
  },
  {
   "cell_type": "code",
   "execution_count": null,
   "metadata": {},
   "outputs": [],
   "source": [
    "compare_similarity(\"truck\", \"car\")"
   ]
  },
  {
   "cell_type": "code",
   "execution_count": null,
   "metadata": {},
   "outputs": [],
   "source": [
    "compare_analogy(\"january\", \"month\", \"monday\")"
   ]
  },
  {
   "cell_type": "code",
   "execution_count": null,
   "metadata": {},
   "outputs": [],
   "source": [
    "compare_analogy(\"paris\", \"france\", \"berlin\")"
   ]
  },
  {
   "cell_type": "code",
   "execution_count": 27,
   "metadata": {},
   "outputs": [
    {
     "name": "stdout",
     "output_type": "stream",
     "text": [
      "analogy similaties : man is to king as woman is to?\n",
      "\tsvd2vec_svd \n",
      "\t\tprincess            0.5237731172162106\n",
      "\t\tisabella            0.5202350726282744\n",
      "\t\tvii                 0.49219104719485585\n",
      "\tgensim_svd \n",
      "\t\tprincess            0.5237736701965332\n",
      "\t\tisabella            0.5202344655990601\n",
      "\t\tvii                 0.49219122529029846\n",
      "\tgensim_w2v \n",
      "\t\tqueen               0.6163082718849182\n",
      "\t\tisabella            0.5582364797592163\n",
      "\t\tprincess            0.5404483675956726\n",
      "\tword2vec_w2v \n",
      "\t\tqueen               0.4885832667350769\n",
      "\t\tconsort             0.46668681502342224\n",
      "\t\tisabella            0.45786744356155396\n"
     ]
    }
   ],
   "source": [
    "compare_analogy(\"man\", \"king\", \"woman\")"
   ]
  },
  {
   "cell_type": "code",
   "execution_count": 62,
   "metadata": {},
   "outputs": [
    {
     "name": "stdout",
     "output_type": "stream",
     "text": [
      "analogy similaties : road is to cars as rail is to?\n",
      "\tsvd2vec_svd \n",
      "\t\tlocomotives         0.7007217961709339\n",
      "\t\tlocomotive          0.6949958902552571\n",
      "\t\ttrucks              0.6416710731236377\n",
      "\tgensim_svd \n",
      "\t\tlocomotives         0.7007222175598145\n",
      "\t\tlocomotive          0.6949959993362427\n",
      "\t\ttrucks              0.6416715383529663\n",
      "\tgensim_w2v \n",
      "\t\tlocomotives         0.7414308190345764\n",
      "\t\tdiesel              0.7162787914276123\n",
      "\t\tvehicles            0.6914362907409668\n",
      "\tword2vec_w2v \n",
      "\t\ttrucks              0.56121426820755\n",
      "\t\tlocomotives         0.5561363697052002\n",
      "\t\tbuses               0.5301402807235718\n"
     ]
    }
   ],
   "source": [
    "compare_analogy(\"road\", \"cars\", \"rail\")"
   ]
  },
  {
   "cell_type": "markdown",
   "metadata": {},
   "source": [
    "---\n",
    "## IV - Evaluations"
   ]
  },
  {
   "cell_type": "code",
   "execution_count": 10,
   "metadata": {},
   "outputs": [],
   "source": [
    "def compare_similarity(path, d='\\t'):\n",
    "    print(\"pearson correlation of\", os.path.basename(path))\n",
    "    print(\"\\tsvd2vec_svd   \", svd2vec_svd.evaluate_word_pairs(path,   delimiter=d)[0])\n",
    "    print(\"\\tgensim_svd    \", gensim_svd.evaluate_word_pairs(path,    delimiter=d)[0][0])\n",
    "    print(\"\\tgensim_w2v    \", gensim_w2v.wv.evaluate_word_pairs(path, delimiter=d)[0][0])\n",
    "    print(\"\\tword2vec_w2v  \", word2vec_w2v.evaluate_word_pairs(path,  delimiter=d)[0][0])\n",
    "    print(\"\")"
   ]
  },
  {
   "cell_type": "code",
   "execution_count": 12,
   "metadata": {},
   "outputs": [
    {
     "name": "stdout",
     "output_type": "stream",
     "text": [
      "pearson correlation of wordsim353.txt\n",
      "\tsvd2vec_svd    0.6706350388667012\n",
      "\tgensim_svd     0.6802918878032329\n",
      "\tgensim_w2v     0.6591957994570873\n",
      "\tword2vec_w2v   0.6727890494950836\n",
      "\n",
      "pearson correlation of men_dataset.txt\n",
      "\tsvd2vec_svd    0.7028159505005802\n",
      "\tgensim_svd     0.7028159480404237\n",
      "\tgensim_w2v     0.6188095527056579\n",
      "\tword2vec_w2v   0.655941425061282\n",
      "\n",
      "pearson correlation of mturk.txt\n",
      "\tsvd2vec_svd    0.6439060836063971\n",
      "\tgensim_svd     0.6439061439515523\n",
      "\tgensim_w2v     0.656630121730164\n",
      "\tword2vec_w2v   0.670345306022554\n",
      "\n",
      "pearson correlation of simlex999.txt\n",
      "\tsvd2vec_svd    0.21355778053833865\n",
      "\tgensim_svd     0.2135578352603581\n",
      "\tgensim_w2v     0.27147404992228164\n",
      "\tword2vec_w2v   0.2983498673828365\n",
      "\n",
      "pearson correlation of rarewords.txt\n",
      "\tsvd2vec_svd    0.4401173357760652\n",
      "\tgensim_svd     0.4401172340986287\n",
      "\tgensim_w2v     0.3990529625651065\n",
      "\tword2vec_w2v   0.45896769712164637\n",
      "\n"
     ]
    }
   ],
   "source": [
    "compare_similarity(FilesIO.path('similarities/wordsim353.txt'))\n",
    "compare_similarity(FilesIO.path('similarities/men_dataset.txt'))\n",
    "compare_similarity(FilesIO.path('similarities/mturk.txt'))\n",
    "compare_similarity(FilesIO.path('similarities/simlex999.txt'))\n",
    "compare_similarity(FilesIO.path('similarities/rarewords.txt'))"
   ]
  },
  {
   "cell_type": "code",
   "execution_count": 11,
   "metadata": {},
   "outputs": [],
   "source": [
    "def compare_analogy(path):\n",
    "    print(\"analogies success rate of\", os.path.basename(path))\n",
    "    print(\"\\tsvd2vec_svd   \", svd2vec_svd.evaluate_word_analogies(path))\n",
    "    print(\"\\tgensim_svd    \", gensim_svd.evaluate_word_analogies(path)[0])\n",
    "    print(\"\\tgensim_w2v    \", gensim_w2v.wv.evaluate_word_analogies(path)[0])\n",
    "    print(\"\\tword2vec_w2v  \", word2vec_w2v.evaluate_word_analogies(path)[0])"
   ]
  },
  {
   "cell_type": "code",
   "execution_count": null,
   "metadata": {},
   "outputs": [],
   "source": [
    "compare_analogy(FilesIO.path('analogies/questions-words.txt'))\n",
    "compare_analogy(FilesIO.path('analogies/msr.txt'))"
   ]
  }
 ],
 "metadata": {
  "kernelspec": {
   "display_name": "Python 3",
   "language": "python",
   "name": "python3"
  },
  "language_info": {
   "codemirror_mode": {
    "name": "ipython",
    "version": 3
   },
   "file_extension": ".py",
   "mimetype": "text/x-python",
   "name": "python",
   "nbconvert_exporter": "python",
   "pygments_lexer": "ipython3",
   "version": "3.5.2"
  }
 },
 "nbformat": 4,
 "nbformat_minor": 2
}
