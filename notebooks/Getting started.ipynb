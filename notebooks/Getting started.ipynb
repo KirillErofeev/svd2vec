{
 "cells": [
  {
   "cell_type": "markdown",
   "metadata": {},
   "source": [
    "# Getting started with `svd2vec`"
   ]
  },
  {
   "cell_type": "markdown",
   "metadata": {},
   "source": [
    "## Installation\n",
    "\n",
    "`svd2vec` can be installed using *pip*:\n",
    "\n",
    "```shell\n",
    "pip install svd2vec\n",
    "```"
   ]
  },
  {
   "cell_type": "markdown",
   "metadata": {},
   "source": [
    "##  Usage\n",
    "\n",
    "`svd2vec` can be used like the `word2vec` implementation of [Gensim](https://pypi.org/project/gensim/)."
   ]
  },
  {
   "cell_type": "markdown",
   "metadata": {},
   "source": [
    "- `svd = svd2vec(documents, size=150, min_count=2, window=10, dyn_window_weight=svd2vec.WINDOW_WEIGHT_WORD2VEC, cds_alpha=0.75, neg_k_shift=5, eig_p_weight=0, nrm_type=NRM_SCHEME_ROW, sub_threshold=1e-5, verbose=True, workers=MAX_CPU_CORES)`\n",
    "- `svd.similarity(\"hello\", \"nice\")`"
   ]
  },
  {
   "cell_type": "code",
   "execution_count": 8,
   "metadata": {},
   "outputs": [],
   "source": [
    "from svd2vec import svd2vec"
   ]
  },
  {
   "cell_type": "code",
   "execution_count": 9,
   "metadata": {},
   "outputs": [],
   "source": [
    "# loading the word2vec demo corpus as a single document\n",
    "documents = [open(\"text8\", \"r\").read().split(\" \")]"
   ]
  },
  {
   "cell_type": "code",
   "execution_count": 21,
   "metadata": {},
   "outputs": [
    {
     "data": {
      "text/plain": [
       "[['',\n",
       "  'anarchism',\n",
       "  'originated',\n",
       "  'as',\n",
       "  'a',\n",
       "  'term',\n",
       "  'of',\n",
       "  'abuse',\n",
       "  'first',\n",
       "  'used',\n",
       "  'against',\n",
       "  'early',\n",
       "  'working',\n",
       "  'class',\n",
       "  'radicals',\n",
       "  '...']]"
      ]
     },
     "execution_count": 21,
     "metadata": {},
     "output_type": "execute_result"
    }
   ],
   "source": [
    "# showing first fifteen words of each documents\n",
    "[d[:15] + ['...'] for d in documents]"
   ]
  },
  {
   "cell_type": "code",
   "execution_count": 22,
   "metadata": {},
   "outputs": [],
   "source": [
    "# creating the words representation (can take a while)\n",
    "svd = svd2vec(documents, window=2, min_count=100, verbose=False)"
   ]
  },
  {
   "cell_type": "code",
   "execution_count": 11,
   "metadata": {},
   "outputs": [
    {
     "data": {
      "text/plain": [
       "[('germany', 0.7229600894363701),\n",
       " ('der', 0.6960269874634539),\n",
       " ('und', 0.6830549907853377),\n",
       " ('leipzig', 0.6791055342999746),\n",
       " ('verlag', 0.6656014798750752),\n",
       " ('weimar', 0.652113201909802),\n",
       " ('sch', 0.6481760373713031),\n",
       " ('ber', 0.6110703637613146),\n",
       " ('munich', 0.6102097105336671),\n",
       " ('frankfurt', 0.6036993618607962)]"
      ]
     },
     "execution_count": 11,
     "metadata": {},
     "output_type": "execute_result"
    }
   ],
   "source": [
    "svd.analogy(\"paris\", \"france\", \"berlin\")"
   ]
  },
  {
   "cell_type": "code",
   "execution_count": null,
   "metadata": {},
   "outputs": [],
   "source": []
  }
 ],
 "metadata": {
  "kernelspec": {
   "display_name": "Python 3",
   "language": "python",
   "name": "python3"
  },
  "language_info": {
   "codemirror_mode": {
    "name": "ipython",
    "version": 3
   },
   "file_extension": ".py",
   "mimetype": "text/x-python",
   "name": "python",
   "nbconvert_exporter": "python",
   "pygments_lexer": "ipython3",
   "version": "3.5.2"
  }
 },
 "nbformat": 4,
 "nbformat_minor": 2
}
