{
 "cells": [
  {
   "cell_type": "markdown",
   "metadata": {},
   "source": [
    "# Getting started with `svd2vec`"
   ]
  },
  {
   "cell_type": "markdown",
   "metadata": {},
   "source": [
    "## I - Installation\n",
    "\n",
    "`svd2vec` can be installed using *pip*:\n",
    "\n",
    "```shell\n",
    "pip install svd2vec\n",
    "```"
   ]
  },
  {
   "cell_type": "markdown",
   "metadata": {},
   "source": [
    "##  II - Usage\n",
    "\n",
    "`svd2vec` can be used like the `word2vec` implementation of [Gensim](https://pypi.org/project/gensim/).\n",
    "The full documentation can be seen [here](#)."
   ]
  },
  {
   "cell_type": "markdown",
   "metadata": {},
   "source": [
    "### A/ Corpus creation\n",
    "\n",
    "The corpus (`documents`) parameter of `svd2vec` should be a list of documents. Each document should be a list of words representing that document."
   ]
  },
  {
   "cell_type": "code",
   "execution_count": 11,
   "metadata": {},
   "outputs": [],
   "source": [
    "import os\n",
    "if not os.path.isfile(\"text8\"):\n",
    "    !echo \"Downloading and extracting the corpus file\"\n",
    "    !curl -O http://mattmahoney.net/dc/text8.zip\n",
    "    !unzip text8.zip\n",
    "    !echo \"Done\""
   ]
  },
  {
   "cell_type": "code",
   "execution_count": 12,
   "metadata": {},
   "outputs": [],
   "source": [
    "# loading the word2vec demo corpus\n",
    "from svd2vec import FilesIO\n",
    "documents = FilesIO.load_corpus(\"text8\")"
   ]
  },
  {
   "cell_type": "markdown",
   "metadata": {},
   "source": [
    "### B/ Creation of the vectors"
   ]
  },
  {
   "cell_type": "code",
   "execution_count": 13,
   "metadata": {},
   "outputs": [],
   "source": [
    "from svd2vec import svd2vec"
   ]
  },
  {
   "cell_type": "code",
   "execution_count": 16,
   "metadata": {},
   "outputs": [
    {
     "data": {
      "text/plain": [
       "[['',\n",
       "  'anarchism',\n",
       "  'originated',\n",
       "  'as',\n",
       "  'a',\n",
       "  'term',\n",
       "  'of',\n",
       "  'abuse',\n",
       "  'first',\n",
       "  'used',\n",
       "  'against',\n",
       "  'early',\n",
       "  'working',\n",
       "  'class',\n",
       "  'radicals',\n",
       "  '...'],\n",
       " ['emotional',\n",
       "  'reciprocity',\n",
       "  'qualitative',\n",
       "  'impairments',\n",
       "  'in',\n",
       "  'communication',\n",
       "  'as',\n",
       "  'manifested',\n",
       "  'by',\n",
       "  'at',\n",
       "  'least',\n",
       "  'one',\n",
       "  'of',\n",
       "  'the',\n",
       "  'following',\n",
       "  '...']]"
      ]
     },
     "execution_count": 16,
     "metadata": {},
     "output_type": "execute_result"
    }
   ],
   "source": [
    "# showing first fifteen words of the first two documents\n",
    "[d[:15] + ['...'] for d in documents[:2]]"
   ]
  },
  {
   "cell_type": "code",
   "execution_count": 17,
   "metadata": {},
   "outputs": [],
   "source": [
    "# creating the words representation (can take a while)\n",
    "svd = svd2vec(documents, window=5, min_count=100, verbose=False)"
   ]
  },
  {
   "cell_type": "markdown",
   "metadata": {},
   "source": [
    "### C/ Similarity and distance"
   ]
  },
  {
   "cell_type": "code",
   "execution_count": 18,
   "metadata": {},
   "outputs": [
    {
     "data": {
      "text/plain": [
       "0.5542564783462338"
      ]
     },
     "execution_count": 18,
     "metadata": {},
     "output_type": "execute_result"
    }
   ],
   "source": [
    "svd.similarity(\"bad\", \"good\")"
   ]
  },
  {
   "cell_type": "code",
   "execution_count": 19,
   "metadata": {},
   "outputs": [
    {
     "data": {
      "text/plain": [
       "0.8130096497866965"
      ]
     },
     "execution_count": 19,
     "metadata": {},
     "output_type": "execute_result"
    }
   ],
   "source": [
    "svd.similarity(\"monday\", \"friday\")"
   ]
  },
  {
   "cell_type": "code",
   "execution_count": 20,
   "metadata": {},
   "outputs": [
    {
     "data": {
      "text/plain": [
       "0.44440147394775065"
      ]
     },
     "execution_count": 20,
     "metadata": {},
     "output_type": "execute_result"
    }
   ],
   "source": [
    "svd.distance(\"apollo\", \"moon\")"
   ]
  },
  {
   "cell_type": "code",
   "execution_count": 21,
   "metadata": {},
   "outputs": [
    {
     "data": {
      "text/plain": [
       "[['march', 0.8295233045546868], ['november', 0.8216695339361217]]"
      ]
     },
     "execution_count": 21,
     "metadata": {},
     "output_type": "execute_result"
    }
   ],
   "source": [
    "svd.most_similar(positive=[\"january\"], topn=2)"
   ]
  },
  {
   "cell_type": "markdown",
   "metadata": {},
   "source": [
    "### D/ Analogy"
   ]
  },
  {
   "cell_type": "code",
   "execution_count": 22,
   "metadata": {},
   "outputs": [
    {
     "data": {
      "text/plain": [
       "[['germany', 0.7408263113851594],\n",
       " ['bavaria', 0.6431198555282065],\n",
       " ['saxony', 0.5959211171696297],\n",
       " ['austria', 0.590324328590732],\n",
       " ['brandenburg', 0.5900766294741353],\n",
       " ['prussia', 0.5843773122184047],\n",
       " ['bohemia', 0.5824459318790264],\n",
       " ['hanover', 0.5682950512805615],\n",
       " ['cologne', 0.5442204032780137],\n",
       " ['reich', 0.5419180170716675]]"
      ]
     },
     "execution_count": 22,
     "metadata": {},
     "output_type": "execute_result"
    }
   ],
   "source": [
    "svd.analogy(\"paris\", \"france\", \"berlin\")"
   ]
  },
  {
   "cell_type": "code",
   "execution_count": 23,
   "metadata": {},
   "outputs": [
    {
     "data": {
      "text/plain": [
       "[['locomotives', 0.7007217961709339],\n",
       " ['locomotive', 0.6949958902552571],\n",
       " ['trucks', 0.6416710731236377],\n",
       " ['passenger', 0.6340002227591348],\n",
       " ['diesel', 0.6173040175406118]]"
      ]
     },
     "execution_count": 23,
     "metadata": {},
     "output_type": "execute_result"
    }
   ],
   "source": [
    "svd.analogy(\"road\", \"cars\", \"rail\", topn=5)"
   ]
  },
  {
   "cell_type": "code",
   "execution_count": 24,
   "metadata": {},
   "outputs": [
    {
     "data": {
      "text/plain": [
       "[['pigs', 0.585718326879587],\n",
       " ['rabbit', 0.5419044648732168],\n",
       " ['dogs', 0.535370585991924],\n",
       " ['cats', 0.5153222256053517],\n",
       " ['sheep', 0.5149061151805266],\n",
       " ['goat', 0.50844035445475],\n",
       " ['deer', 0.5025313268690585],\n",
       " ['cat', 0.4944135783694952],\n",
       " ['goats', 0.4921548791044705],\n",
       " ['cattle', 0.48890884003919893]]"
      ]
     },
     "execution_count": 24,
     "metadata": {},
     "output_type": "execute_result"
    }
   ],
   "source": [
    "svd.analogy(\"cow\", \"cows\", \"pig\")"
   ]
  },
  {
   "cell_type": "code",
   "execution_count": 25,
   "metadata": {},
   "outputs": [
    {
     "data": {
      "text/plain": [
       "[['women', 0.7420544447534583],\n",
       " ['couples', 0.5894623989986301],\n",
       " ['sex', 0.5854488454516094],\n",
       " ['male', 0.5767848480015852],\n",
       " ['female', 0.5652073684195842],\n",
       " ['sexual', 0.5066287903659428],\n",
       " ['sexually', 0.49818155809108344],\n",
       " ['intercourse', 0.4814815146911616],\n",
       " ['heterosexual', 0.47986486800415895],\n",
       " ['lesbian', 0.4657069024650438]]"
      ]
     },
     "execution_count": 25,
     "metadata": {},
     "output_type": "execute_result"
    }
   ],
   "source": [
    "svd.analogy(\"man\", \"men\", \"woman\")"
   ]
  },
  {
   "cell_type": "markdown",
   "metadata": {},
   "source": [
    "### E/ Saving and loading vectors"
   ]
  },
  {
   "cell_type": "code",
   "execution_count": 26,
   "metadata": {},
   "outputs": [],
   "source": [
    "# saving to a binary format\n",
    "svd.save(\"svd.svd2vec\")"
   ]
  },
  {
   "cell_type": "code",
   "execution_count": 27,
   "metadata": {},
   "outputs": [
    {
     "data": {
      "text/plain": [
       "0.5542564783462338"
      ]
     },
     "execution_count": 27,
     "metadata": {},
     "output_type": "execute_result"
    }
   ],
   "source": [
    "# loading from binary file\n",
    "loaded = svd2vec.load(\"svd.svd2vec\")\n",
    "loaded.similarity(\"bad\", \"good\")"
   ]
  },
  {
   "cell_type": "code",
   "execution_count": 28,
   "metadata": {},
   "outputs": [],
   "source": [
    "# saving to a word2vec like representation\n",
    "svd.save_word2vec_format(\"svd.word2vec\")"
   ]
  }
 ],
 "metadata": {
  "kernelspec": {
   "display_name": "Python 3",
   "language": "python",
   "name": "python3"
  },
  "language_info": {
   "codemirror_mode": {
    "name": "ipython",
    "version": 3
   },
   "file_extension": ".py",
   "mimetype": "text/x-python",
   "name": "python",
   "nbconvert_exporter": "python",
   "pygments_lexer": "ipython3",
   "version": "3.5.2"
  }
 },
 "nbformat": 4,
 "nbformat_minor": 2
}
