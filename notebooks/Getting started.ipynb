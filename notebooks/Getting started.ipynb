{
 "cells": [
  {
   "cell_type": "markdown",
   "metadata": {},
   "source": [
    "# Getting started with `svd2vec`"
   ]
  },
  {
   "cell_type": "markdown",
   "metadata": {},
   "source": [
    "## I - Installation\n",
    "\n",
    "`svd2vec` can be installed using *pip*:\n",
    "\n",
    "```shell\n",
    "pip install svd2vec\n",
    "```"
   ]
  },
  {
   "cell_type": "markdown",
   "metadata": {},
   "source": [
    "##  II - Usage\n",
    "\n",
    "`svd2vec` can be used like the `word2vec` implementation of [Gensim](https://pypi.org/project/gensim/).\n",
    "The full documentation can be seen [here](#)."
   ]
  },
  {
   "cell_type": "markdown",
   "metadata": {},
   "source": [
    "### A/ Corpus creation\n",
    "\n",
    "The corpus (`documents`) parameter of `svd2vec` should be a list of documents. Each document should be a list of words representing that document."
   ]
  },
  {
   "cell_type": "code",
   "execution_count": 18,
   "metadata": {},
   "outputs": [],
   "source": [
    "# saving the word2vec corpus locally\n",
    "import requests, zipfile, io\n",
    "\n",
    "url = \"http://mattmahoney.net/dc/text8.zip\"\n",
    "r = requests.get(url)\n",
    "z = zipfile.ZipFile(io.BytesIO(r.content))\n",
    "z.extractall()"
   ]
  },
  {
   "cell_type": "code",
   "execution_count": 19,
   "metadata": {},
   "outputs": [],
   "source": [
    "# loading the word2vec demo corpus as a single document\n",
    "documents = [open(\"text8\", \"r\").read().split(\" \")]"
   ]
  },
  {
   "cell_type": "markdown",
   "metadata": {},
   "source": [
    "### B/ Creation of the vectors"
   ]
  },
  {
   "cell_type": "code",
   "execution_count": 1,
   "metadata": {},
   "outputs": [],
   "source": [
    "from svd2vec import svd2vec"
   ]
  },
  {
   "cell_type": "code",
   "execution_count": 3,
   "metadata": {},
   "outputs": [
    {
     "data": {
      "text/plain": [
       "[['',\n",
       "  'anarchism',\n",
       "  'originated',\n",
       "  'as',\n",
       "  'a',\n",
       "  'term',\n",
       "  'of',\n",
       "  'abuse',\n",
       "  'first',\n",
       "  'used',\n",
       "  'against',\n",
       "  'early',\n",
       "  'working',\n",
       "  'class',\n",
       "  'radicals',\n",
       "  '...']]"
      ]
     },
     "execution_count": 3,
     "metadata": {},
     "output_type": "execute_result"
    }
   ],
   "source": [
    "# showing first fifteen words of each documents\n",
    "[d[:15] + ['...'] for d in documents]"
   ]
  },
  {
   "cell_type": "code",
   "execution_count": 46,
   "metadata": {},
   "outputs": [],
   "source": [
    "# creating the words representation (can take a while)\n",
    "svd = svd2vec(documents, window=5, min_count=100, verbose=False)"
   ]
  },
  {
   "cell_type": "markdown",
   "metadata": {},
   "source": [
    "### C/ Similarity and distance"
   ]
  },
  {
   "cell_type": "code",
   "execution_count": 47,
   "metadata": {},
   "outputs": [
    {
     "data": {
      "text/plain": [
       "0.5595044997663727"
      ]
     },
     "execution_count": 47,
     "metadata": {},
     "output_type": "execute_result"
    }
   ],
   "source": [
    "svd.similarity(\"bad\", \"good\")"
   ]
  },
  {
   "cell_type": "code",
   "execution_count": 48,
   "metadata": {},
   "outputs": [
    {
     "data": {
      "text/plain": [
       "0.8000593208690482"
      ]
     },
     "execution_count": 48,
     "metadata": {},
     "output_type": "execute_result"
    }
   ],
   "source": [
    "svd.similarity(\"monday\", \"friday\")"
   ]
  },
  {
   "cell_type": "code",
   "execution_count": 56,
   "metadata": {},
   "outputs": [
    {
     "data": {
      "text/plain": [
       "0.51619968887672"
      ]
     },
     "execution_count": 56,
     "metadata": {},
     "output_type": "execute_result"
    }
   ],
   "source": [
    "svd.distance(\"apollo\", \"moon\")"
   ]
  },
  {
   "cell_type": "code",
   "execution_count": 57,
   "metadata": {},
   "outputs": [
    {
     "data": {
      "text/plain": [
       "[('december', 0.7869627196261781), ('march', 0.7782765534824396)]"
      ]
     },
     "execution_count": 57,
     "metadata": {},
     "output_type": "execute_result"
    }
   ],
   "source": [
    "svd.most_similar(positive=[\"january\"], topn=2)"
   ]
  },
  {
   "cell_type": "markdown",
   "metadata": {},
   "source": [
    "### D/ Analogy"
   ]
  },
  {
   "cell_type": "code",
   "execution_count": 51,
   "metadata": {},
   "outputs": [
    {
     "data": {
      "text/plain": [
       "[('germany', 0.7240066875926087),\n",
       " ('weimar', 0.6371445233683818),\n",
       " ('reich', 0.631414594126022),\n",
       " ('munich', 0.5917068813628168),\n",
       " ('sch', 0.5591401823289636),\n",
       " ('brandenburg', 0.5468138153874815),\n",
       " ('und', 0.541566598856033),\n",
       " ('hermann', 0.5411562914966189),\n",
       " ('adolf', 0.5394922186458038),\n",
       " ('otto', 0.5391901427839293)]"
      ]
     },
     "execution_count": 51,
     "metadata": {},
     "output_type": "execute_result"
    }
   ],
   "source": [
    "svd.analogy(\"paris\", \"france\", \"berlin\")"
   ]
  },
  {
   "cell_type": "code",
   "execution_count": 55,
   "metadata": {},
   "outputs": [
    {
     "data": {
      "text/plain": [
       "[('locomotives', 0.7626203484386807),\n",
       " ('locomotive', 0.7587259422633467),\n",
       " ('trucks', 0.7255470578340787),\n",
       " ('trains', 0.717637832883044),\n",
       " ('automobiles', 0.6737808582283374)]"
      ]
     },
     "execution_count": 55,
     "metadata": {},
     "output_type": "execute_result"
    }
   ],
   "source": [
    "svd.analogy(\"road\", \"cars\", \"rail\", topn=5)"
   ]
  },
  {
   "cell_type": "code",
   "execution_count": 53,
   "metadata": {},
   "outputs": [
    {
     "data": {
      "text/plain": [
       "[('sheep', 0.5829199353965691),\n",
       " ('pigs', 0.5629631047865382),\n",
       " ('goat', 0.5611478942276642),\n",
       " ('eat', 0.5592920869267609),\n",
       " ('cats', 0.523851442525088),\n",
       " ('goats', 0.5230269418385303),\n",
       " ('meat', 0.5202435333205421),\n",
       " ('animal', 0.5194570523705068),\n",
       " ('fish', 0.5131523388198542),\n",
       " ('dogs', 0.5125122379464395)]"
      ]
     },
     "execution_count": 53,
     "metadata": {},
     "output_type": "execute_result"
    }
   ],
   "source": [
    "svd.analogy(\"cow\", \"cows\", \"pig\")"
   ]
  },
  {
   "cell_type": "code",
   "execution_count": 54,
   "metadata": {},
   "outputs": [
    {
     "data": {
      "text/plain": [
       "[('women', 0.7754647153730071),\n",
       " ('couples', 0.6097503266776299),\n",
       " ('male', 0.5914266186445117),\n",
       " ('sex', 0.5782558939194317),\n",
       " ('female', 0.570068551351722),\n",
       " ('intercourse', 0.5302306678128059),\n",
       " ('heterosexual', 0.5222203608894108),\n",
       " ('children', 0.5139059481091136),\n",
       " ('lesbian', 0.5132646381911999),\n",
       " ('feminism', 0.5027363468750581)]"
      ]
     },
     "execution_count": 54,
     "metadata": {},
     "output_type": "execute_result"
    }
   ],
   "source": [
    "svd.analogy(\"man\", \"men\", \"woman\")"
   ]
  },
  {
   "cell_type": "markdown",
   "metadata": {},
   "source": [
    "### E/ Saving and loading vectors"
   ]
  },
  {
   "cell_type": "code",
   "execution_count": 12,
   "metadata": {},
   "outputs": [],
   "source": [
    "# saving to a binary format\n",
    "svd.save(\"svd.binary\")"
   ]
  },
  {
   "cell_type": "code",
   "execution_count": 13,
   "metadata": {},
   "outputs": [
    {
     "data": {
      "text/plain": [
       "0.5259838000029272"
      ]
     },
     "execution_count": 13,
     "metadata": {},
     "output_type": "execute_result"
    }
   ],
   "source": [
    "# loading from binary file\n",
    "loaded = svd2vec.load(\"svd.binary\")\n",
    "loaded.similarity(\"bad\", \"good\")"
   ]
  },
  {
   "cell_type": "code",
   "execution_count": 15,
   "metadata": {},
   "outputs": [],
   "source": [
    "# saving to a word2vec like representation\n",
    "svd.save_word2vec_format(\"svd.word2vec\")"
   ]
  }
 ],
 "metadata": {
  "kernelspec": {
   "display_name": "Python 3",
   "language": "python",
   "name": "python3"
  },
  "language_info": {
   "codemirror_mode": {
    "name": "ipython",
    "version": 3
   },
   "file_extension": ".py",
   "mimetype": "text/x-python",
   "name": "python",
   "nbconvert_exporter": "python",
   "pygments_lexer": "ipython3",
   "version": "3.5.2"
  }
 },
 "nbformat": 4,
 "nbformat_minor": 2
}
